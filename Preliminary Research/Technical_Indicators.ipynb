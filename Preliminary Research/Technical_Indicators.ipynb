{
  "nbformat": 4,
  "nbformat_minor": 0,
  "metadata": {
    "colab": {
      "name": "Technical Indicators.ipynb",
      "provenance": [],
      "collapsed_sections": []
    },
    "kernelspec": {
      "name": "python3",
      "display_name": "Python 3"
    },
    "language_info": {
      "name": "python"
    }
  },
  "cells": [
    {
      "cell_type": "code",
      "metadata": {
        "colab": {
          "base_uri": "https://localhost:8080/"
        },
        "id": "Y30ZUtXzGhmA",
        "outputId": "39ff30f6-0c52-4595-b7b9-b5a6eb4d8e31"
      },
      "source": [
        "!pip install yfinance\n"
      ],
      "execution_count": null,
      "outputs": [
        {
          "output_type": "stream",
          "text": [
            "Collecting yfinance\n",
            "  Downloading yfinance-0.1.63.tar.gz (26 kB)\n",
            "Requirement already satisfied: pandas>=0.24 in /usr/local/lib/python3.7/dist-packages (from yfinance) (1.1.5)\n",
            "Requirement already satisfied: numpy>=1.15 in /usr/local/lib/python3.7/dist-packages (from yfinance) (1.19.5)\n",
            "Requirement already satisfied: requests>=2.20 in /usr/local/lib/python3.7/dist-packages (from yfinance) (2.23.0)\n",
            "Requirement already satisfied: multitasking>=0.0.7 in /usr/local/lib/python3.7/dist-packages (from yfinance) (0.0.9)\n",
            "Collecting lxml>=4.5.1\n",
            "  Downloading lxml-4.6.3-cp37-cp37m-manylinux2014_x86_64.whl (6.3 MB)\n",
            "\u001b[K     |████████████████████████████████| 6.3 MB 33.0 MB/s \n",
            "\u001b[?25hRequirement already satisfied: pytz>=2017.2 in /usr/local/lib/python3.7/dist-packages (from pandas>=0.24->yfinance) (2018.9)\n",
            "Requirement already satisfied: python-dateutil>=2.7.3 in /usr/local/lib/python3.7/dist-packages (from pandas>=0.24->yfinance) (2.8.1)\n",
            "Requirement already satisfied: six>=1.5 in /usr/local/lib/python3.7/dist-packages (from python-dateutil>=2.7.3->pandas>=0.24->yfinance) (1.15.0)\n",
            "Requirement already satisfied: certifi>=2017.4.17 in /usr/local/lib/python3.7/dist-packages (from requests>=2.20->yfinance) (2021.5.30)\n",
            "Requirement already satisfied: idna<3,>=2.5 in /usr/local/lib/python3.7/dist-packages (from requests>=2.20->yfinance) (2.10)\n",
            "Requirement already satisfied: urllib3!=1.25.0,!=1.25.1,<1.26,>=1.21.1 in /usr/local/lib/python3.7/dist-packages (from requests>=2.20->yfinance) (1.24.3)\n",
            "Requirement already satisfied: chardet<4,>=3.0.2 in /usr/local/lib/python3.7/dist-packages (from requests>=2.20->yfinance) (3.0.4)\n",
            "Building wheels for collected packages: yfinance\n",
            "  Building wheel for yfinance (setup.py) ... \u001b[?25l\u001b[?25hdone\n",
            "  Created wheel for yfinance: filename=yfinance-0.1.63-py2.py3-none-any.whl size=23919 sha256=5baec92b41e4d1bd0503260fd18a37c8a44ef88e770fd22c8b478e46a4fea885\n",
            "  Stored in directory: /root/.cache/pip/wheels/fe/87/8b/7ec24486e001d3926537f5f7801f57a74d181be25b11157983\n",
            "Successfully built yfinance\n",
            "Installing collected packages: lxml, yfinance\n",
            "  Attempting uninstall: lxml\n",
            "    Found existing installation: lxml 4.2.6\n",
            "    Uninstalling lxml-4.2.6:\n",
            "      Successfully uninstalled lxml-4.2.6\n",
            "Successfully installed lxml-4.6.3 yfinance-0.1.63\n"
          ],
          "name": "stdout"
        }
      ]
    },
    {
      "cell_type": "code",
      "metadata": {
        "colab": {
          "base_uri": "https://localhost:8080/"
        },
        "id": "eyElmSR7HGne",
        "outputId": "8216129d-f9b0-403e-9f97-e39869738296"
      },
      "source": [
        "!pip install bsedata\n"
      ],
      "execution_count": null,
      "outputs": [
        {
          "output_type": "stream",
          "text": [
            "Collecting bsedata\n",
            "  Downloading https://files.pythonhosted.org/packages/29/fc/deba4c296cb89203d3bd3a80d8271c04d21dddd01a6d5d587781540a7331/bsedata-0.5.0-py3-none-any.whl\n",
            "Requirement already satisfied: lxml in /usr/local/lib/python3.7/dist-packages (from bsedata) (4.6.3)\n",
            "Requirement already satisfied: beautifulsoup4 in /usr/local/lib/python3.7/dist-packages (from bsedata) (4.6.3)\n",
            "Requirement already satisfied: requests in /usr/local/lib/python3.7/dist-packages (from bsedata) (2.23.0)\n",
            "Requirement already satisfied: chardet<4,>=3.0.2 in /usr/local/lib/python3.7/dist-packages (from requests->bsedata) (3.0.4)\n",
            "Requirement already satisfied: idna<3,>=2.5 in /usr/local/lib/python3.7/dist-packages (from requests->bsedata) (2.10)\n",
            "Requirement already satisfied: urllib3!=1.25.0,!=1.25.1,<1.26,>=1.21.1 in /usr/local/lib/python3.7/dist-packages (from requests->bsedata) (1.24.3)\n",
            "Requirement already satisfied: certifi>=2017.4.17 in /usr/local/lib/python3.7/dist-packages (from requests->bsedata) (2020.12.5)\n",
            "Installing collected packages: bsedata\n",
            "Successfully installed bsedata-0.5.0\n"
          ],
          "name": "stdout"
        }
      ]
    },
    {
      "cell_type": "markdown",
      "metadata": {
        "id": "10eKi4dZGyEy"
      },
      "source": [
        "import yfinance as yf\n"
      ]
    },
    {
      "cell_type": "code",
      "metadata": {
        "id": "lwazFLYBG1Um"
      },
      "source": [
        "import yfinance as yf\n",
        "import matplotlib.pyplot as plt\n",
        "import pandas as pd\n",
        "import numpy as np"
      ],
      "execution_count": null,
      "outputs": []
    },
    {
      "cell_type": "code",
      "metadata": {
        "id": "AW0ZWgXLG27_"
      },
      "source": [
        "from bsedata.bse import BSE\n",
        "b = BSE()\n"
      ],
      "execution_count": null,
      "outputs": []
    },
    {
      "cell_type": "code",
      "metadata": {
        "colab": {
          "base_uri": "https://localhost:8080/"
        },
        "id": "At0GWAHHHXvv",
        "outputId": "b16a3c83-4ffc-4a26-ae7e-4e2ab7ddde22"
      },
      "source": [
        "b.getQuote('500010')"
      ],
      "execution_count": null,
      "outputs": [
        {
          "output_type": "execute_result",
          "data": {
            "text/plain": [
              "{'2WeekAvgQuantity': '1.41 Lakh',\n",
              " '52weekHigh': '2895.35',\n",
              " '52weekLow': '1623.00',\n",
              " 'buy': {'1': {'price': '2549.80', 'quantity': '34'},\n",
              "  '2': {'price': '2549.75', 'quantity': '22'},\n",
              "  '3': {'price': '2549.65', 'quantity': '93'},\n",
              "  '4': {'price': '2549.60', 'quantity': '100'},\n",
              "  '5': {'price': '2549.30', 'quantity': '20'}},\n",
              " 'change': '5.80',\n",
              " 'companyName': 'HOUSING DEVELOPMENT FINANCE CORP.LTD.',\n",
              " 'currentValue': '2550.40',\n",
              " 'dayHigh': '2558.00',\n",
              " 'dayLow': '2546.10',\n",
              " 'faceValue': '2.00',\n",
              " 'group': 'A  / S&P BSE SENSEX',\n",
              " 'industry': 'Housing Finance',\n",
              " 'lowerPriceBand': '',\n",
              " 'marketCapFreeFloat': '4,60,473.65 Cr.',\n",
              " 'marketCapFull': '4,60,473.65 Cr.',\n",
              " 'pChange': '0.23',\n",
              " 'previousClose': '2544.60',\n",
              " 'previousOpen': '2558.00',\n",
              " 'priceBand': '',\n",
              " 'scripCode': '500010',\n",
              " 'securityID': 'HDFC',\n",
              " 'sell': {'1': {'price': '2551.40', 'quantity': '1'},\n",
              "  '2': {'price': '2551.50', 'quantity': '23'},\n",
              "  '3': {'price': '2551.55', 'quantity': '52'},\n",
              "  '4': {'price': '2551.70', 'quantity': '93'},\n",
              "  '5': {'price': '2551.85', 'quantity': '12'}},\n",
              " 'totalTradedQuantity': '0.08 Lakh',\n",
              " 'totalTradedValue': '1.99 Cr.',\n",
              " 'updatedOn': '10 Jun 21 | 09:41 AM',\n",
              " 'upperPriceBand': '',\n",
              " 'weightedAvgPrice': '2552.62'}"
            ]
          },
          "metadata": {
            "tags": []
          },
          "execution_count": 5
        }
      ]
    },
    {
      "cell_type": "code",
      "metadata": {
        "colab": {
          "base_uri": "https://localhost:8080/"
        },
        "id": "T5Ef2YTNHb6P",
        "outputId": "4a4f5c0f-e892-4a57-fdd5-a8e823b47515"
      },
      "source": [
        "x = yf.download('TRIVENI.NS')"
      ],
      "execution_count": null,
      "outputs": [
        {
          "output_type": "stream",
          "text": [
            "\r[*********************100%***********************]  1 of 1 completed\n"
          ],
          "name": "stdout"
        }
      ]
    },
    {
      "cell_type": "code",
      "metadata": {
        "id": "fpZNS7JeH3dv"
      },
      "source": [
        "import pandas as pd\n",
        "tickers = [\"TRIVENI.NS\",\"TATAPOWER.NS\"]\n",
        "\n",
        "close_prices = pd.DataFrame() # dataframe to store close price of each ticker\n",
        "attempt = 0 # initializing passthrough variable\n",
        "drop = []"
      ],
      "execution_count": null,
      "outputs": []
    },
    {
      "cell_type": "code",
      "metadata": {
        "colab": {
          "base_uri": "https://localhost:8080/"
        },
        "id": "V2REkDYsOtO3",
        "outputId": "e992643d-5cee-4c25-c2f3-85a30687c7c6"
      },
      "source": [
        "while len(tickers) != 0 and attempt <= 5:\n",
        "    tickers = [j for j in tickers if j not in drop] # removing stocks whose data has been extracted from the ticker list\n",
        "    for i in range(len(tickers)):\n",
        "        try:\n",
        "            temp = yf.download(tickers[i])\n",
        "            temp.dropna(inplace = True)\n",
        "            close_prices[tickers[i]] = temp[\"Adj Close\"]\n",
        "            drop.append(tickers[i])       \n",
        "        except:\n",
        "            print(tickers[i],\" :failed to fetch data...retrying\")\n",
        "            continue\n",
        "    attempt+=1"
      ],
      "execution_count": null,
      "outputs": [
        {
          "output_type": "stream",
          "text": [
            "[*********************100%***********************]  1 of 1 completed\n",
            "[*********************100%***********************]  1 of 1 completed\n"
          ],
          "name": "stdout"
        }
      ]
    },
    {
      "cell_type": "code",
      "metadata": {
        "colab": {
          "base_uri": "https://localhost:8080/",
          "height": 445
        },
        "id": "KheTVOksO7Yo",
        "outputId": "cc703aba-e6fb-4e72-e995-fcb9caed32a0"
      },
      "source": [
        "close_prices"
      ],
      "execution_count": null,
      "outputs": [
        {
          "output_type": "execute_result",
          "data": {
            "text/html": [
              "<div>\n",
              "<style scoped>\n",
              "    .dataframe tbody tr th:only-of-type {\n",
              "        vertical-align: middle;\n",
              "    }\n",
              "\n",
              "    .dataframe tbody tr th {\n",
              "        vertical-align: top;\n",
              "    }\n",
              "\n",
              "    .dataframe thead th {\n",
              "        text-align: right;\n",
              "    }\n",
              "</style>\n",
              "<table border=\"1\" class=\"dataframe\">\n",
              "  <thead>\n",
              "    <tr style=\"text-align: right;\">\n",
              "      <th></th>\n",
              "      <th>TRIVENI.NS</th>\n",
              "      <th>TATAPOWER.NS</th>\n",
              "    </tr>\n",
              "    <tr>\n",
              "      <th>Date</th>\n",
              "      <th></th>\n",
              "      <th></th>\n",
              "    </tr>\n",
              "  </thead>\n",
              "  <tbody>\n",
              "    <tr>\n",
              "      <th>2005-12-13</th>\n",
              "      <td>31.384119</td>\n",
              "      <td>32.295036</td>\n",
              "    </tr>\n",
              "    <tr>\n",
              "      <th>2005-12-14</th>\n",
              "      <td>32.473015</td>\n",
              "      <td>32.175491</td>\n",
              "    </tr>\n",
              "    <tr>\n",
              "      <th>2005-12-15</th>\n",
              "      <td>31.940664</td>\n",
              "      <td>32.237080</td>\n",
              "    </tr>\n",
              "    <tr>\n",
              "      <th>2005-12-16</th>\n",
              "      <td>31.045366</td>\n",
              "      <td>32.465275</td>\n",
              "    </tr>\n",
              "    <tr>\n",
              "      <th>2005-12-19</th>\n",
              "      <td>33.029560</td>\n",
              "      <td>32.776775</td>\n",
              "    </tr>\n",
              "    <tr>\n",
              "      <th>...</th>\n",
              "      <td>...</td>\n",
              "      <td>...</td>\n",
              "    </tr>\n",
              "    <tr>\n",
              "      <th>2021-06-07</th>\n",
              "      <td>167.949997</td>\n",
              "      <td>113.349998</td>\n",
              "    </tr>\n",
              "    <tr>\n",
              "      <th>2021-06-08</th>\n",
              "      <td>187.449997</td>\n",
              "      <td>117.050003</td>\n",
              "    </tr>\n",
              "    <tr>\n",
              "      <th>2021-06-09</th>\n",
              "      <td>187.800003</td>\n",
              "      <td>124.650002</td>\n",
              "    </tr>\n",
              "    <tr>\n",
              "      <th>2021-06-10</th>\n",
              "      <td>194.250000</td>\n",
              "      <td>127.599998</td>\n",
              "    </tr>\n",
              "    <tr>\n",
              "      <th>2021-06-11</th>\n",
              "      <td>185.800003</td>\n",
              "      <td>125.699997</td>\n",
              "    </tr>\n",
              "  </tbody>\n",
              "</table>\n",
              "<p>3813 rows × 2 columns</p>\n",
              "</div>"
            ],
            "text/plain": [
              "            TRIVENI.NS  TATAPOWER.NS\n",
              "Date                                \n",
              "2005-12-13   31.384119     32.295036\n",
              "2005-12-14   32.473015     32.175491\n",
              "2005-12-15   31.940664     32.237080\n",
              "2005-12-16   31.045366     32.465275\n",
              "2005-12-19   33.029560     32.776775\n",
              "...                ...           ...\n",
              "2021-06-07  167.949997    113.349998\n",
              "2021-06-08  187.449997    117.050003\n",
              "2021-06-09  187.800003    124.650002\n",
              "2021-06-10  194.250000    127.599998\n",
              "2021-06-11  185.800003    125.699997\n",
              "\n",
              "[3813 rows x 2 columns]"
            ]
          },
          "metadata": {
            "tags": []
          },
          "execution_count": 6
        }
      ]
    },
    {
      "cell_type": "code",
      "metadata": {
        "id": "SIENc_pYPNZo"
      },
      "source": [
        "close_prices.mean() # prints mean stock price for each stock\n",
        "close_prices.median() # prints median stock price for each stock\n",
        "close_prices.std() # prints standard deviation of stock price for each stock\n",
        "\n",
        "daily_return = close_prices.pct_change() # Creates dataframe with daily return for each stock\n"
      ],
      "execution_count": null,
      "outputs": []
    },
    {
      "cell_type": "code",
      "metadata": {
        "colab": {
          "base_uri": "https://localhost:8080/"
        },
        "id": "ndKv9wTLQgjG",
        "outputId": "eedb6f37-ba6f-410a-c663-c83eaa63606d"
      },
      "source": [
        "#daily_return.mean() # prints mean daily return for each stock\n",
        "daily_return.std() # prints standard deviation of daily returns for each stock\n"
      ],
      "execution_count": null,
      "outputs": [
        {
          "output_type": "execute_result",
          "data": {
            "text/plain": [
              "TRIVENI.NS      0.037225\n",
              "TATAPOWER.NS    0.024153\n",
              "dtype: float64"
            ]
          },
          "metadata": {
            "tags": []
          },
          "execution_count": 32
        }
      ]
    },
    {
      "cell_type": "code",
      "metadata": {
        "colab": {
          "base_uri": "https://localhost:8080/",
          "height": 196
        },
        "id": "acjUH7N7QhxQ",
        "outputId": "f4afb42a-46cc-4386-b07e-504f4fe44a2b"
      },
      "source": [
        "daily_return.rolling(window=20).mean() # simple moving average\n",
        "daily_return.rolling(window=20).std()\n",
        "\n"
      ],
      "execution_count": null,
      "outputs": [
        {
          "output_type": "error",
          "ename": "NameError",
          "evalue": "ignored",
          "traceback": [
            "\u001b[0;31m---------------------------------------------------------------------------\u001b[0m",
            "\u001b[0;31mNameError\u001b[0m                                 Traceback (most recent call last)",
            "\u001b[0;32m<ipython-input-7-e299737500f5>\u001b[0m in \u001b[0;36m<module>\u001b[0;34m()\u001b[0m\n\u001b[0;32m----> 1\u001b[0;31m \u001b[0mdaily_return\u001b[0m\u001b[0;34m.\u001b[0m\u001b[0mrolling\u001b[0m\u001b[0;34m(\u001b[0m\u001b[0mwindow\u001b[0m\u001b[0;34m=\u001b[0m\u001b[0;36m20\u001b[0m\u001b[0;34m)\u001b[0m\u001b[0;34m.\u001b[0m\u001b[0mmean\u001b[0m\u001b[0;34m(\u001b[0m\u001b[0;34m)\u001b[0m \u001b[0;31m# simple moving average\u001b[0m\u001b[0;34m\u001b[0m\u001b[0;34m\u001b[0m\u001b[0m\n\u001b[0m\u001b[1;32m      2\u001b[0m \u001b[0mdaily_return\u001b[0m\u001b[0;34m.\u001b[0m\u001b[0mrolling\u001b[0m\u001b[0;34m(\u001b[0m\u001b[0mwindow\u001b[0m\u001b[0;34m=\u001b[0m\u001b[0;36m20\u001b[0m\u001b[0;34m)\u001b[0m\u001b[0;34m.\u001b[0m\u001b[0mstd\u001b[0m\u001b[0;34m(\u001b[0m\u001b[0;34m)\u001b[0m\u001b[0;34m\u001b[0m\u001b[0;34m\u001b[0m\u001b[0m\n\u001b[1;32m      3\u001b[0m \u001b[0;34m\u001b[0m\u001b[0m\n",
            "\u001b[0;31mNameError\u001b[0m: name 'daily_return' is not defined"
          ]
        }
      ]
    },
    {
      "cell_type": "code",
      "metadata": {
        "colab": {
          "base_uri": "https://localhost:8080/",
          "height": 445
        },
        "id": "kteDll4LQ5rI",
        "outputId": "f3296834-5c9a-4c9a-b06d-56a91d782a87"
      },
      "source": [
        "daily_return.ewm(span=20,min_periods=20).mean() # exponential moving average\n",
        "daily_return.ewm(span=20,min_periods=20).std()"
      ],
      "execution_count": null,
      "outputs": [
        {
          "output_type": "execute_result",
          "data": {
            "text/html": [
              "<div>\n",
              "<style scoped>\n",
              "    .dataframe tbody tr th:only-of-type {\n",
              "        vertical-align: middle;\n",
              "    }\n",
              "\n",
              "    .dataframe tbody tr th {\n",
              "        vertical-align: top;\n",
              "    }\n",
              "\n",
              "    .dataframe thead th {\n",
              "        text-align: right;\n",
              "    }\n",
              "</style>\n",
              "<table border=\"1\" class=\"dataframe\">\n",
              "  <thead>\n",
              "    <tr style=\"text-align: right;\">\n",
              "      <th></th>\n",
              "      <th>TRIVENI.NS</th>\n",
              "      <th>TATAPOWER.NS</th>\n",
              "    </tr>\n",
              "    <tr>\n",
              "      <th>Date</th>\n",
              "      <th></th>\n",
              "      <th></th>\n",
              "    </tr>\n",
              "  </thead>\n",
              "  <tbody>\n",
              "    <tr>\n",
              "      <th>2005-12-13</th>\n",
              "      <td>NaN</td>\n",
              "      <td>NaN</td>\n",
              "    </tr>\n",
              "    <tr>\n",
              "      <th>2005-12-14</th>\n",
              "      <td>NaN</td>\n",
              "      <td>NaN</td>\n",
              "    </tr>\n",
              "    <tr>\n",
              "      <th>2005-12-15</th>\n",
              "      <td>NaN</td>\n",
              "      <td>NaN</td>\n",
              "    </tr>\n",
              "    <tr>\n",
              "      <th>2005-12-16</th>\n",
              "      <td>NaN</td>\n",
              "      <td>NaN</td>\n",
              "    </tr>\n",
              "    <tr>\n",
              "      <th>2005-12-19</th>\n",
              "      <td>NaN</td>\n",
              "      <td>NaN</td>\n",
              "    </tr>\n",
              "    <tr>\n",
              "      <th>...</th>\n",
              "      <td>...</td>\n",
              "      <td>...</td>\n",
              "    </tr>\n",
              "    <tr>\n",
              "      <th>2021-06-04</th>\n",
              "      <td>0.032912</td>\n",
              "      <td>0.020203</td>\n",
              "    </tr>\n",
              "    <tr>\n",
              "      <th>2021-06-07</th>\n",
              "      <td>0.043260</td>\n",
              "      <td>0.023546</td>\n",
              "    </tr>\n",
              "    <tr>\n",
              "      <th>2021-06-08</th>\n",
              "      <td>0.050822</td>\n",
              "      <td>0.023670</td>\n",
              "    </tr>\n",
              "    <tr>\n",
              "      <th>2021-06-09</th>\n",
              "      <td>0.048907</td>\n",
              "      <td>0.028005</td>\n",
              "    </tr>\n",
              "    <tr>\n",
              "      <th>2021-06-10</th>\n",
              "      <td>0.046579</td>\n",
              "      <td>0.026655</td>\n",
              "    </tr>\n",
              "  </tbody>\n",
              "</table>\n",
              "<p>3812 rows × 2 columns</p>\n",
              "</div>"
            ],
            "text/plain": [
              "            TRIVENI.NS  TATAPOWER.NS\n",
              "Date                                \n",
              "2005-12-13         NaN           NaN\n",
              "2005-12-14         NaN           NaN\n",
              "2005-12-15         NaN           NaN\n",
              "2005-12-16         NaN           NaN\n",
              "2005-12-19         NaN           NaN\n",
              "...                ...           ...\n",
              "2021-06-04    0.032912      0.020203\n",
              "2021-06-07    0.043260      0.023546\n",
              "2021-06-08    0.050822      0.023670\n",
              "2021-06-09    0.048907      0.028005\n",
              "2021-06-10    0.046579      0.026655\n",
              "\n",
              "[3812 rows x 2 columns]"
            ]
          },
          "metadata": {
            "tags": []
          },
          "execution_count": 34
        }
      ]
    },
    {
      "cell_type": "code",
      "metadata": {
        "colab": {
          "base_uri": "https://localhost:8080/",
          "height": 287
        },
        "id": "S5sYlCfrR8Gp",
        "outputId": "4597fbd1-5f71-4d5d-d764-44a84ca52c41"
      },
      "source": [
        "close_prices.plot() # Plot of all the stocks superimposed on the same chart\n",
        "\n"
      ],
      "execution_count": null,
      "outputs": [
        {
          "output_type": "execute_result",
          "data": {
            "text/plain": [
              "<matplotlib.axes._subplots.AxesSubplot at 0x7f43e8804410>"
            ]
          },
          "metadata": {
            "tags": []
          },
          "execution_count": 35
        },
        {
          "output_type": "display_data",
          "data": {
            "image/png": "[encoded data removed]",
            "text/plain": [
              "<Figure size 432x288 with 1 Axes>"
            ]
          },
          "metadata": {
            "tags": [],
            "needs_background": "light"
          }
        }
      ]
    },
    {
      "cell_type": "code",
      "metadata": {
        "colab": {
          "base_uri": "https://localhost:8080/",
          "height": 286
        },
        "id": "9iHtWu8vSJj5",
        "outputId": "f0c236c8-8f7d-46d5-fe0c-978df6e94491"
      },
      "source": [
        "cp_standardized = (close_prices - close_prices.mean())/close_prices.std() # Standardization\n",
        "cp_standardized.plot() # Plot of all the stocks standardized and superimposed on the same chart\n",
        "\n"
      ],
      "execution_count": null,
      "outputs": [
        {
          "output_type": "execute_result",
          "data": {
            "text/plain": [
              "<matplotlib.axes._subplots.AxesSubplot at 0x7f43e870d2d0>"
            ]
          },
          "metadata": {
            "tags": []
          },
          "execution_count": 36
        },
        {
          "output_type": "display_data",
          "data": {
            "image/png": "[encoded data removed]",
            "text/plain": [
              "<Figure size 432x288 with 1 Axes>"
            ]
          },
          "metadata": {
            "tags": [],
            "needs_background": "light"
          }
        }
      ]
    },
    {
      "cell_type": "code",
      "metadata": {
        "colab": {
          "base_uri": "https://localhost:8080/",
          "height": 456
        },
        "id": "OYiwgK9pSNZK",
        "outputId": "1877ddb2-6f4c-4e47-b040-9d83b6b89275"
      },
      "source": [
        "close_prices.plot(subplots=True, layout = (3,2), title = \"Tech Stock Price Evolution\", grid =True) # Subplots of the stocks\n",
        "\n",
        "\n",
        "# Pyplot demo\n",
        "fig, ax = plt.subplots()\n",
        "plt.style.available\n",
        "plt.style.use('ggplot')\n",
        "ax.set(title=\"Daily return on tech stocks\", xlabel=\"Tech Stocks\", ylabel = \"Daily Returns\")\n",
        "plt.bar(daily_return.columns,daily_return.mean())"
      ],
      "execution_count": null,
      "outputs": [
        {
          "output_type": "execute_result",
          "data": {
            "text/plain": [
              "<BarContainer object of 2 artists>"
            ]
          },
          "metadata": {
            "tags": []
          },
          "execution_count": 39
        },
        {
          "output_type": "display_data",
          "data": {
            "image/png": "[encoded data removed]",
            "text/plain": [
              "<Figure size 432x288 with 6 Axes>"
            ]
          },
          "metadata": {
            "tags": [],
            "needs_background": "light"
          }
        },
        {
          "output_type": "display_data",
          "data": {
            "image/png": "[encoded data removed]",
            "text/plain": [
              "<Figure size 432x288 with 1 Axes>"
            ]
          },
          "metadata": {
            "tags": [],
            "needs_background": "light"
          }
        }
      ]
    },
    {
      "cell_type": "code",
      "metadata": {
        "colab": {
          "base_uri": "https://localhost:8080/"
        },
        "id": "yUiFUdGyU_2n",
        "outputId": "ec8e8e7a-f492-4981-9cf7-d5e45b5d7c68"
      },
      "source": [
        "drop =[]\n",
        "attempt =0\n",
        "ticker = [\"TRIVENI.NS\"]\n",
        "ticker_data = pd.DataFrame()\n",
        "\n",
        "for i in ticker:\n",
        "        try:\n",
        "            ticker_data = yf.download(i,start=\"2017-01-01\", end=\"2021-06-11\")\n",
        "            \n",
        "        except:\n",
        "            print(i,\" :failed to fetch data...retrying\")\n",
        "            continue\n",
        "    "
      ],
      "execution_count": null,
      "outputs": [
        {
          "output_type": "stream",
          "text": [
            "\r[*********************100%***********************]  1 of 1 completed\n"
          ],
          "name": "stdout"
        }
      ]
    },
    {
      "cell_type": "code",
      "metadata": {
        "colab": {
          "base_uri": "https://localhost:8080/",
          "height": 445
        },
        "id": "NvH4NVLvZcqH",
        "outputId": "8b4d8c0a-67bb-4800-901c-7ceec12fb07c"
      },
      "source": [
        "ticker_data"
      ],
      "execution_count": null,
      "outputs": [
        {
          "output_type": "execute_result",
          "data": {
            "text/html": [
              "<div>\n",
              "<style scoped>\n",
              "    .dataframe tbody tr th:only-of-type {\n",
              "        vertical-align: middle;\n",
              "    }\n",
              "\n",
              "    .dataframe tbody tr th {\n",
              "        vertical-align: top;\n",
              "    }\n",
              "\n",
              "    .dataframe thead th {\n",
              "        text-align: right;\n",
              "    }\n",
              "</style>\n",
              "<table border=\"1\" class=\"dataframe\">\n",
              "  <thead>\n",
              "    <tr style=\"text-align: right;\">\n",
              "      <th></th>\n",
              "      <th>Open</th>\n",
              "      <th>High</th>\n",
              "      <th>Low</th>\n",
              "      <th>Close</th>\n",
              "      <th>Adj Close</th>\n",
              "      <th>Volume</th>\n",
              "    </tr>\n",
              "    <tr>\n",
              "      <th>Date</th>\n",
              "      <th></th>\n",
              "      <th></th>\n",
              "      <th></th>\n",
              "      <th></th>\n",
              "      <th></th>\n",
              "      <th></th>\n",
              "    </tr>\n",
              "  </thead>\n",
              "  <tbody>\n",
              "    <tr>\n",
              "      <th>2017-01-02</th>\n",
              "      <td>61.000000</td>\n",
              "      <td>64.199997</td>\n",
              "      <td>60.349998</td>\n",
              "      <td>63.900002</td>\n",
              "      <td>62.006310</td>\n",
              "      <td>1974476</td>\n",
              "    </tr>\n",
              "    <tr>\n",
              "      <th>2017-01-03</th>\n",
              "      <td>63.950001</td>\n",
              "      <td>69.099998</td>\n",
              "      <td>63.549999</td>\n",
              "      <td>66.900002</td>\n",
              "      <td>64.917404</td>\n",
              "      <td>3441833</td>\n",
              "    </tr>\n",
              "    <tr>\n",
              "      <th>2017-01-04</th>\n",
              "      <td>67.300003</td>\n",
              "      <td>68.300003</td>\n",
              "      <td>64.199997</td>\n",
              "      <td>64.750000</td>\n",
              "      <td>62.831116</td>\n",
              "      <td>1000433</td>\n",
              "    </tr>\n",
              "    <tr>\n",
              "      <th>2017-01-05</th>\n",
              "      <td>65.349998</td>\n",
              "      <td>67.300003</td>\n",
              "      <td>64.900002</td>\n",
              "      <td>66.000000</td>\n",
              "      <td>64.044075</td>\n",
              "      <td>632367</td>\n",
              "    </tr>\n",
              "    <tr>\n",
              "      <th>2017-01-06</th>\n",
              "      <td>66.000000</td>\n",
              "      <td>68.300003</td>\n",
              "      <td>64.300003</td>\n",
              "      <td>66.099998</td>\n",
              "      <td>64.141106</td>\n",
              "      <td>1286944</td>\n",
              "    </tr>\n",
              "    <tr>\n",
              "      <th>...</th>\n",
              "      <td>...</td>\n",
              "      <td>...</td>\n",
              "      <td>...</td>\n",
              "      <td>...</td>\n",
              "      <td>...</td>\n",
              "      <td>...</td>\n",
              "    </tr>\n",
              "    <tr>\n",
              "      <th>2021-06-04</th>\n",
              "      <td>153.449997</td>\n",
              "      <td>154.899994</td>\n",
              "      <td>149.850006</td>\n",
              "      <td>151.750000</td>\n",
              "      <td>151.750000</td>\n",
              "      <td>1170813</td>\n",
              "    </tr>\n",
              "    <tr>\n",
              "      <th>2021-06-07</th>\n",
              "      <td>154.300003</td>\n",
              "      <td>174.500000</td>\n",
              "      <td>154.300003</td>\n",
              "      <td>167.949997</td>\n",
              "      <td>167.949997</td>\n",
              "      <td>5188285</td>\n",
              "    </tr>\n",
              "    <tr>\n",
              "      <th>2021-06-08</th>\n",
              "      <td>169.500000</td>\n",
              "      <td>198.300003</td>\n",
              "      <td>161.449997</td>\n",
              "      <td>187.449997</td>\n",
              "      <td>187.449997</td>\n",
              "      <td>7113704</td>\n",
              "    </tr>\n",
              "    <tr>\n",
              "      <th>2021-06-09</th>\n",
              "      <td>189.399994</td>\n",
              "      <td>203.100006</td>\n",
              "      <td>185.350006</td>\n",
              "      <td>187.800003</td>\n",
              "      <td>187.800003</td>\n",
              "      <td>5288956</td>\n",
              "    </tr>\n",
              "    <tr>\n",
              "      <th>2021-06-10</th>\n",
              "      <td>190.000000</td>\n",
              "      <td>197.949997</td>\n",
              "      <td>190.000000</td>\n",
              "      <td>194.250000</td>\n",
              "      <td>194.250000</td>\n",
              "      <td>2322052</td>\n",
              "    </tr>\n",
              "  </tbody>\n",
              "</table>\n",
              "<p>1094 rows × 6 columns</p>\n",
              "</div>"
            ],
            "text/plain": [
              "                  Open        High         Low       Close   Adj Close   Volume\n",
              "Date                                                                           \n",
              "2017-01-02   61.000000   64.199997   60.349998   63.900002   62.006310  1974476\n",
              "2017-01-03   63.950001   69.099998   63.549999   66.900002   64.917404  3441833\n",
              "2017-01-04   67.300003   68.300003   64.199997   64.750000   62.831116  1000433\n",
              "2017-01-05   65.349998   67.300003   64.900002   66.000000   64.044075   632367\n",
              "2017-01-06   66.000000   68.300003   64.300003   66.099998   64.141106  1286944\n",
              "...                ...         ...         ...         ...         ...      ...\n",
              "2021-06-04  153.449997  154.899994  149.850006  151.750000  151.750000  1170813\n",
              "2021-06-07  154.300003  174.500000  154.300003  167.949997  167.949997  5188285\n",
              "2021-06-08  169.500000  198.300003  161.449997  187.449997  187.449997  7113704\n",
              "2021-06-09  189.399994  203.100006  185.350006  187.800003  187.800003  5288956\n",
              "2021-06-10  190.000000  197.949997  190.000000  194.250000  194.250000  2322052\n",
              "\n",
              "[1094 rows x 6 columns]"
            ]
          },
          "metadata": {
            "tags": []
          },
          "execution_count": 32
        }
      ]
    },
    {
      "cell_type": "code",
      "metadata": {
        "colab": {
          "base_uri": "https://localhost:8080/",
          "height": 702
        },
        "id": "tycH4QwKSlP1",
        "outputId": "c3401d91-9558-485e-c0e7-983b30b674ca"
      },
      "source": [
        "import pandas_datareader.data as pdr\n",
        "import datetime\n",
        "\n",
        "def MACD(DF,a,b,c): \n",
        "    \"\"\"function to calculate MACD\n",
        "       typical values a = 12; b =26, c =9\"\"\"\n",
        "    df = DF.copy()\n",
        "    df[\"MA_Fast\"]=df[\"Adj Close\"].ewm(span=a,min_periods=a).mean()\n",
        "    df[\"MA_Slow\"]=df[\"Adj Close\"].ewm(span=b,min_periods=b).mean()\n",
        "    df[\"MACD\"]=df[\"MA_Fast\"]-df[\"MA_Slow\"]\n",
        "    df[\"Signal\"]=df[\"MACD\"].ewm(span=c,min_periods=c).mean()\n",
        "    df.dropna(inplace=True)\n",
        "    return df\n",
        "\n",
        "# Visualization - plotting MACD/signal along with close price and volume for last 100 data points\n",
        "df = MACD(ticker_data, 12, 26, 9)\n",
        "\n",
        "plt.subplot(311)\n",
        "plt.plot(df.iloc[-100:,4])\n",
        "plt.title('TRIVENI Stock Price')\n",
        "plt.xticks([])\n",
        "\n",
        "plt.subplot(312)\n",
        "plt.bar(df.iloc[-100:,5].index, df.iloc[-100:,5].values)\n",
        "plt.title('Volume')\n",
        "plt.xticks([])\n",
        "\n",
        "plt.subplot(313)\n",
        "plt.plot(df.iloc[-100:,[-2,-1]])\n",
        "plt.title('MACD')\n",
        "plt.legend(('MACD','Signal'),loc='lower right')\n",
        "\n",
        "plt.show()\n",
        "\n",
        "\n",
        "# Visualization - Using object orient approach\n",
        "# Get the figure and the axes\n",
        "fig, (ax0, ax1) = plt.subplots(nrows=2,ncols=1, sharex=True, sharey=False, figsize=(10, 6), gridspec_kw = {'height_ratios':[2.5, 1]})  # subplot function \n",
        "df.iloc[-100:,4].plot(ax=ax0)\n",
        "ax0.set(ylabel='Adj Close')\n",
        "\n",
        "df.iloc[-100:,[-2,-1]].plot(ax=ax1)\n",
        "ax1.set(xlabel='Date', ylabel='MACD/Signal')\n",
        "\n",
        "# Title the figure\n",
        "fig.suptitle('Stock Price with MACD', fontsize=14, fontweight='bold')\n",
        "\n"
      ],
      "execution_count": null,
      "outputs": [
        {
          "output_type": "display_data",
          "data": {
            "image/png": "[encoded data removed]",
            "text/plain": [
              "<Figure size 432x288 with 3 Axes>"
            ]
          },
          "metadata": {
            "tags": []
          }
        },
        {
          "output_type": "execute_result",
          "data": {
            "text/plain": [
              "Text(0.5, 0.98, 'Stock Price with MACD')"
            ]
          },
          "metadata": {
            "tags": []
          },
          "execution_count": 56
        },
        {
          "output_type": "display_data",
          "data": {
            "image/png": "[encoded data removed]",
            "text/plain": [
              "<Figure size 720x432 with 2 Axes>"
            ]
          },
          "metadata": {
            "tags": []
          }
        }
      ]
    },
    {
      "cell_type": "code",
      "metadata": {
        "id": "w_7Hd6yqSW7g"
      },
      "source": [
        "#ATR Bollinger"
      ],
      "execution_count": null,
      "outputs": []
    },
    {
      "cell_type": "code",
      "metadata": {
        "colab": {
          "base_uri": "https://localhost:8080/",
          "height": 310
        },
        "id": "V7-SgtaMdYVy",
        "outputId": "21150415-1067-4657-b0e9-5447a4b02c08"
      },
      "source": [
        "\n",
        "def ATR(DF,n):\n",
        "    \"function to calculate True Range and Average True Range\"\n",
        "    df = DF.copy()\n",
        "    df['H-L']=abs(df['High']-df['Low'])\n",
        "    df['H-PC']=abs(df['High']-df['Adj Close'].shift(1))\n",
        "    df['L-PC']=abs(df['Low']-df['Adj Close'].shift(1))\n",
        "    df['TR']=df[['H-L','H-PC','L-PC']].max(axis=1,skipna=False)\n",
        "    df['ATR'] = df['TR'].rolling(n).mean()\n",
        "    #df['ATR'] = df['TR'].ewm(span=n,adjust=False,min_periods=n).mean()\n",
        "    df2 = df.drop(['H-L','H-PC','L-PC'],axis=1)\n",
        "    return df2\n",
        "\n",
        "\n",
        "def BollBnd(DF,n):\n",
        "    \"function to calculate Bollinger Band\"\n",
        "    df = DF.copy()\n",
        "    df[\"MA\"] = df['Adj Close'].rolling(n).mean()\n",
        "    df[\"BB_up\"] = df[\"MA\"] + 2*df[\"MA\"].rolling(n).std()\n",
        "    df[\"BB_dn\"] = df[\"MA\"] - 2*df[\"MA\"].rolling(n).std()\n",
        "    df[\"BB_width\"] = df[\"BB_up\"] - df[\"BB_dn\"]\n",
        "    df.dropna(inplace=True)\n",
        "    return df\n",
        "\n",
        "# Visualizing Bollinger Band of the stocks for last 100 data points\n",
        "BollBnd(ticker_data,20).iloc[-100:,[-4,-3,-2]].plot(title=\"Bollinger Band\")"
      ],
      "execution_count": null,
      "outputs": [
        {
          "output_type": "execute_result",
          "data": {
            "text/plain": [
              "<matplotlib.axes._subplots.AxesSubplot at 0x7f774af0f150>"
            ]
          },
          "metadata": {
            "tags": []
          },
          "execution_count": 10
        },
        {
          "output_type": "display_data",
          "data": {
            "image/png": "[encoded data removed]",
            "text/plain": [
              "<Figure size 432x288 with 1 Axes>"
            ]
          },
          "metadata": {
            "tags": [],
            "needs_background": "light"
          }
        }
      ]
    },
    {
      "cell_type": "code",
      "metadata": {
        "colab": {
          "base_uri": "https://localhost:8080/",
          "height": 310
        },
        "id": "4kAjzY1RLQEH",
        "outputId": "f1b94212-aa62-4501-cea5-152c745de83c"
      },
      "source": [
        "ATR(ticker_data,20).iloc[-100:,[-4,-3,-2]].plot(title=\"ATR Band\")"
      ],
      "execution_count": null,
      "outputs": [
        {
          "output_type": "execute_result",
          "data": {
            "text/plain": [
              "<matplotlib.axes._subplots.AxesSubplot at 0x7f7749e18310>"
            ]
          },
          "metadata": {
            "tags": []
          },
          "execution_count": 12
        },
        {
          "output_type": "display_data",
          "data": {
            "image/png": "[encoded data removed]",
            "text/plain": [
              "<Figure size 432x288 with 1 Axes>"
            ]
          },
          "metadata": {
            "tags": [],
            "needs_background": "light"
          }
        }
      ]
    },
    {
      "cell_type": "code",
      "metadata": {
        "id": "U2u--spTLZUl"
      },
      "source": [
        "#RSI \n",
        "def RSI(DF,n):\n",
        "    \"function to calculate RSI\"\n",
        "    df = DF.copy()\n",
        "    df['delta']=df['Adj Close'] - df['Adj Close'].shift(1)\n",
        "    df['gain']=np.where(df['delta']>=0,df['delta'],0)\n",
        "    df['loss']=np.where(df['delta']<0,abs(df['delta']),0)\n",
        "    avg_gain = []\n",
        "    avg_loss = []\n",
        "    gain = df['gain'].tolist()\n",
        "    loss = df['loss'].tolist()\n",
        "    for i in range(len(df)):\n",
        "        if i < n:\n",
        "            avg_gain.append(np.NaN)\n",
        "            avg_loss.append(np.NaN)\n",
        "        elif i == n:\n",
        "            avg_gain.append(df['gain'].rolling(n).mean().tolist()[n])\n",
        "            avg_loss.append(df['loss'].rolling(n).mean().tolist()[n])\n",
        "        elif i > n:\n",
        "            avg_gain.append(((n-1)*avg_gain[i-1] + gain[i])/n)\n",
        "            avg_loss.append(((n-1)*avg_loss[i-1] + loss[i])/n)\n",
        "    df['avg_gain']=np.array(avg_gain)\n",
        "    df['avg_loss']=np.array(avg_loss)\n",
        "    df['RS'] = df['avg_gain']/df['avg_loss']\n",
        "    df['RSI'] = 100 - (100/(1+df['RS']))\n",
        "    return df['RSI']"
      ],
      "execution_count": null,
      "outputs": []
    },
    {
      "cell_type": "code",
      "metadata": {
        "id": "HHkS04p58djd"
      },
      "source": [
        "# Calculating RSI without using loop\n",
        "def rsi(df, n):\n",
        "    \"function to calculate RSI\"\n",
        "    delta = df[\"Adj Close\"].diff().dropna()\n",
        "    u = delta * 0\n",
        "    d = u.copy()\n",
        "    u[delta > 0] = delta[delta > 0]\n",
        "    d[delta < 0] = -delta[delta < 0]\n",
        "    u[u.index[n-1]] = np.mean( u[:n] ) #first value is sum of avg gains\n",
        "    u = u.drop(u.index[:(n-1)])\n",
        "    d[d.index[n-1]] = np.mean( d[:n] ) #first value is sum of avg losses\n",
        "    d = d.drop(d.index[:(n-1)])\n",
        "    rs = pd.stats.moments.ewma(u, com=n-1, adjust=False) / \\\n",
        "         pd.stats.moments.ewma(d, com=n-1, adjust=False)"
      ],
      "execution_count": null,
      "outputs": []
    },
    {
      "cell_type": "code",
      "metadata": {
        "id": "w93vC31T9hiC"
      },
      "source": [
        "#ADX \n",
        "def ATR(DF,n):\n",
        "  df = DF.copy()\n",
        "  df['H-L'] = abs(df['High'] - df['Low'])\n",
        "  df['H-PC']=abs(df['High']- df['Adj Close'].shift(1))\n",
        "  df['L-PC']=abs(df['Low']- df['Adj Close'].shift(1))\n",
        "  df['TR'] = df[['H-L','H-PC','L-PC']].max(axis=1, skipna=False)\n",
        "  df['ATR'] = df['TR'].rolling(n).mean()\n",
        "  df2 = df.drop(['H-L','H-PC','L-PC'],axis=1)\n",
        "  return df2\n",
        "\n",
        "def ADX(DF,n):\n",
        "  df = DF.copy()\n",
        "  df['TR'] = ATR(df,n)['TR']\n",
        "  df['DMPlus'] = np.where((df['High']-df['High'].shift(1)) > (df['Low'].shift(1) - df['Low']), max((df['High']-df['High'].shift(1)), 0),0)\n",
        "  df['DMMinus'] = np.where(df['Low'].shift(1) - df['Low']>df['High']-df['High'].shift(1), max((df['Low'].shift(1) - df['Low']), 0),0)\n",
        "  TRn = []\n",
        "  DM_plus_n = []\n",
        "  DM_minus_n = [] \n",
        "  TR = df['TR'].tolist()\n",
        "  DMplus = df['DMPlus'].tolist()\n",
        "  DMminus = df['DMMinus'].tolist()\n",
        "  for i in range(len(df)):\n",
        "    if i < n :\n",
        "      TRn.append(np.NaN)\n",
        "      DM_plus_n.append(np.NaN)\n",
        "      DM_minus_n.append(np.NaN)\n",
        "    elif i == n :\n",
        "      TRn.append(df['TR'].rolling(n).sum().tolist()[n])\n",
        "      DM_plus_n.append(df['DM_Plus'].rolling(n).sum().tolist()[n])\n",
        "      DM_minus_n.append(df['DM_Minus'].rolling(n).sum().tolist()[n])\n",
        "    elif i > n:\n",
        "      TRn.append((TRn[i-1]-TRn[i-1]/14)+TR[i])\n",
        "      DM_plus_n.append(DM_plus_n[i-1]-DM_plus_n[i-1]/14+DMplus[i])\n",
        "      DM_minus_n.append(DM_minus_n[i-1]-DM_minus_n[i-1]/14+DMMinus[i])\n",
        "  df['TRn'] = np.array(TRn)\n",
        "  df['DMplusN'] = np.array(DM_plus_n)\n",
        "  df['DMminusN'] = np.array(DM_minus_n)\n",
        "  df['DIplus'] = 100 * (df['DMplusN']/df['TRn'])\n",
        "  df['DIminus'] = 100 * (df['DMminusN']/df['TRn'])\n",
        "  df['DIsum'] = df['DIplus']+df['DIminus']\n",
        "  df['DIdiff'] = abs(df['DIplus']-df['DIMinus'])\n",
        "  df['DX'] = df['DIdiff']/df['DIsum']\n",
        "  ADX = []\n",
        "  for i in range(len(df)):\n",
        "    if i < 2*n -1:\n",
        "      ADX.append(np.NaN)\n",
        "    elif i == 2*n -1 :\n",
        "      ADX.append(df['DX'][i-n-1:i+1].mean())\n",
        "    else:\n",
        "      ADX.append(((n-1)*ADX[i-1] + df['DX'][i])/n)\n",
        "  df['ADX'] = np.array(ADX)\n",
        "  return df['ADX']\n"
      ],
      "execution_count": null,
      "outputs": []
    },
    {
      "cell_type": "code",
      "metadata": {
        "colab": {
          "base_uri": "https://localhost:8080/",
          "height": 303
        },
        "id": "V9QSi32oEktG",
        "outputId": "4cd9b32b-9c4e-42fd-cc04-ce55d45f7113"
      },
      "source": [
        "ADX(ticker_data,20)"
      ],
      "execution_count": null,
      "outputs": [
        {
          "output_type": "error",
          "ename": "ValueError",
          "evalue": "ignored",
          "traceback": [
            "\u001b[0;31m---------------------------------------------------------------------------\u001b[0m",
            "\u001b[0;31mValueError\u001b[0m                                Traceback (most recent call last)",
            "\u001b[0;32m<ipython-input-86-c713912c13cc>\u001b[0m in \u001b[0;36m<module>\u001b[0;34m()\u001b[0m\n\u001b[0;32m----> 1\u001b[0;31m \u001b[0mADX\u001b[0m\u001b[0;34m(\u001b[0m\u001b[0mticker_data\u001b[0m\u001b[0;34m,\u001b[0m\u001b[0;36m20\u001b[0m\u001b[0;34m)\u001b[0m\u001b[0;34m\u001b[0m\u001b[0;34m\u001b[0m\u001b[0m\n\u001b[0m",
            "\u001b[0;32m<ipython-input-83-948f7d76b364>\u001b[0m in \u001b[0;36mADX\u001b[0;34m(DF, n)\u001b[0m\n\u001b[1;32m     13\u001b[0m   \u001b[0mdf\u001b[0m \u001b[0;34m=\u001b[0m \u001b[0mDF\u001b[0m\u001b[0;34m.\u001b[0m\u001b[0mcopy\u001b[0m\u001b[0;34m(\u001b[0m\u001b[0;34m)\u001b[0m\u001b[0;34m\u001b[0m\u001b[0;34m\u001b[0m\u001b[0m\n\u001b[1;32m     14\u001b[0m   \u001b[0mdf\u001b[0m\u001b[0;34m[\u001b[0m\u001b[0;34m'TR'\u001b[0m\u001b[0;34m]\u001b[0m \u001b[0;34m=\u001b[0m \u001b[0mATR\u001b[0m\u001b[0;34m(\u001b[0m\u001b[0mdf\u001b[0m\u001b[0;34m,\u001b[0m\u001b[0mn\u001b[0m\u001b[0;34m)\u001b[0m\u001b[0;34m[\u001b[0m\u001b[0;34m'TR'\u001b[0m\u001b[0;34m]\u001b[0m\u001b[0;34m\u001b[0m\u001b[0;34m\u001b[0m\u001b[0m\n\u001b[0;32m---> 15\u001b[0;31m   \u001b[0mdf\u001b[0m\u001b[0;34m[\u001b[0m\u001b[0;34m'DMPlus'\u001b[0m\u001b[0;34m]\u001b[0m \u001b[0;34m=\u001b[0m \u001b[0mnp\u001b[0m\u001b[0;34m.\u001b[0m\u001b[0mwhere\u001b[0m\u001b[0;34m(\u001b[0m\u001b[0;34m(\u001b[0m\u001b[0mdf\u001b[0m\u001b[0;34m[\u001b[0m\u001b[0;34m'High'\u001b[0m\u001b[0;34m]\u001b[0m\u001b[0;34m-\u001b[0m\u001b[0mdf\u001b[0m\u001b[0;34m[\u001b[0m\u001b[0;34m'High'\u001b[0m\u001b[0;34m]\u001b[0m\u001b[0;34m.\u001b[0m\u001b[0mshift\u001b[0m\u001b[0;34m(\u001b[0m\u001b[0;36m1\u001b[0m\u001b[0;34m)\u001b[0m\u001b[0;34m)\u001b[0m\u001b[0;34m>\u001b[0m\u001b[0;34m(\u001b[0m\u001b[0mdf\u001b[0m\u001b[0;34m[\u001b[0m\u001b[0;34m'Low'\u001b[0m\u001b[0;34m]\u001b[0m\u001b[0;34m.\u001b[0m\u001b[0mshift\u001b[0m\u001b[0;34m(\u001b[0m\u001b[0;36m1\u001b[0m\u001b[0;34m)\u001b[0m \u001b[0;34m-\u001b[0m \u001b[0mdf\u001b[0m\u001b[0;34m[\u001b[0m\u001b[0;34m'Low'\u001b[0m\u001b[0;34m]\u001b[0m\u001b[0;34m)\u001b[0m\u001b[0;34m,\u001b[0m \u001b[0mmax\u001b[0m\u001b[0;34m(\u001b[0m\u001b[0;34m(\u001b[0m\u001b[0mdf\u001b[0m\u001b[0;34m[\u001b[0m\u001b[0;34m'High'\u001b[0m\u001b[0;34m]\u001b[0m\u001b[0;34m-\u001b[0m\u001b[0mdf\u001b[0m\u001b[0;34m[\u001b[0m\u001b[0;34m'High'\u001b[0m\u001b[0;34m]\u001b[0m\u001b[0;34m.\u001b[0m\u001b[0mshift\u001b[0m\u001b[0;34m(\u001b[0m\u001b[0;36m1\u001b[0m\u001b[0;34m)\u001b[0m\u001b[0;34m)\u001b[0m\u001b[0;34m,\u001b[0m \u001b[0;36m0\u001b[0m\u001b[0;34m)\u001b[0m\u001b[0;34m,\u001b[0m\u001b[0;36m0\u001b[0m\u001b[0;34m)\u001b[0m\u001b[0;34m\u001b[0m\u001b[0;34m\u001b[0m\u001b[0m\n\u001b[0m\u001b[1;32m     16\u001b[0m   \u001b[0mdf\u001b[0m\u001b[0;34m[\u001b[0m\u001b[0;34m'DMMinus'\u001b[0m\u001b[0;34m]\u001b[0m \u001b[0;34m=\u001b[0m \u001b[0mnp\u001b[0m\u001b[0;34m.\u001b[0m\u001b[0mwhere\u001b[0m\u001b[0;34m(\u001b[0m\u001b[0mdf\u001b[0m\u001b[0;34m[\u001b[0m\u001b[0;34m'Low'\u001b[0m\u001b[0;34m]\u001b[0m\u001b[0;34m.\u001b[0m\u001b[0mshift\u001b[0m\u001b[0;34m(\u001b[0m\u001b[0;36m1\u001b[0m\u001b[0;34m)\u001b[0m \u001b[0;34m-\u001b[0m \u001b[0mdf\u001b[0m\u001b[0;34m[\u001b[0m\u001b[0;34m'Low'\u001b[0m\u001b[0;34m]\u001b[0m\u001b[0;34m>\u001b[0m\u001b[0mdf\u001b[0m\u001b[0;34m[\u001b[0m\u001b[0;34m'High'\u001b[0m\u001b[0;34m]\u001b[0m\u001b[0;34m-\u001b[0m\u001b[0mdf\u001b[0m\u001b[0;34m[\u001b[0m\u001b[0;34m'High'\u001b[0m\u001b[0;34m]\u001b[0m\u001b[0;34m.\u001b[0m\u001b[0mshift\u001b[0m\u001b[0;34m(\u001b[0m\u001b[0;36m1\u001b[0m\u001b[0;34m)\u001b[0m\u001b[0;34m,\u001b[0m \u001b[0mmax\u001b[0m\u001b[0;34m(\u001b[0m\u001b[0;34m(\u001b[0m\u001b[0mdf\u001b[0m\u001b[0;34m[\u001b[0m\u001b[0;34m'Low'\u001b[0m\u001b[0;34m]\u001b[0m\u001b[0;34m.\u001b[0m\u001b[0mshift\u001b[0m\u001b[0;34m(\u001b[0m\u001b[0;36m1\u001b[0m\u001b[0;34m)\u001b[0m \u001b[0;34m-\u001b[0m \u001b[0mdf\u001b[0m\u001b[0;34m[\u001b[0m\u001b[0;34m'Low'\u001b[0m\u001b[0;34m]\u001b[0m\u001b[0;34m)\u001b[0m\u001b[0;34m,\u001b[0m \u001b[0;36m0\u001b[0m\u001b[0;34m)\u001b[0m\u001b[0;34m,\u001b[0m\u001b[0;36m0\u001b[0m\u001b[0;34m)\u001b[0m\u001b[0;34m\u001b[0m\u001b[0;34m\u001b[0m\u001b[0m\n\u001b[1;32m     17\u001b[0m   \u001b[0mTRn\u001b[0m \u001b[0;34m=\u001b[0m \u001b[0;34m[\u001b[0m\u001b[0;34m]\u001b[0m\u001b[0;34m\u001b[0m\u001b[0;34m\u001b[0m\u001b[0m\n",
            "\u001b[0;32m/usr/local/lib/python3.7/dist-packages/pandas/core/generic.py\u001b[0m in \u001b[0;36m__nonzero__\u001b[0;34m(self)\u001b[0m\n\u001b[1;32m   1328\u001b[0m     \u001b[0;32mdef\u001b[0m \u001b[0m__nonzero__\u001b[0m\u001b[0;34m(\u001b[0m\u001b[0mself\u001b[0m\u001b[0;34m)\u001b[0m\u001b[0;34m:\u001b[0m\u001b[0;34m\u001b[0m\u001b[0;34m\u001b[0m\u001b[0m\n\u001b[1;32m   1329\u001b[0m         raise ValueError(\n\u001b[0;32m-> 1330\u001b[0;31m             \u001b[0;34mf\"The truth value of a {type(self).__name__} is ambiguous. \"\u001b[0m\u001b[0;34m\u001b[0m\u001b[0;34m\u001b[0m\u001b[0m\n\u001b[0m\u001b[1;32m   1331\u001b[0m             \u001b[0;34m\"Use a.empty, a.bool(), a.item(), a.any() or a.all().\"\u001b[0m\u001b[0;34m\u001b[0m\u001b[0;34m\u001b[0m\u001b[0m\n\u001b[1;32m   1332\u001b[0m         )\n",
            "\u001b[0;31mValueError\u001b[0m: The truth value of a Series is ambiguous. Use a.empty, a.bool(), a.item(), a.any() or a.all()."
          ]
        }
      ]
    },
    {
      "cell_type": "code",
      "metadata": {
        "colab": {
          "base_uri": "https://localhost:8080/",
          "height": 445
        },
        "id": "7EkJpg_M_LpT",
        "outputId": "3e359802-80b6-48aa-9016-e33440ba9390"
      },
      "source": [
        "ticker_data\n"
      ],
      "execution_count": null,
      "outputs": [
        {
          "output_type": "execute_result",
          "data": {
            "text/html": [
              "<div>\n",
              "<style scoped>\n",
              "    .dataframe tbody tr th:only-of-type {\n",
              "        vertical-align: middle;\n",
              "    }\n",
              "\n",
              "    .dataframe tbody tr th {\n",
              "        vertical-align: top;\n",
              "    }\n",
              "\n",
              "    .dataframe thead th {\n",
              "        text-align: right;\n",
              "    }\n",
              "</style>\n",
              "<table border=\"1\" class=\"dataframe\">\n",
              "  <thead>\n",
              "    <tr style=\"text-align: right;\">\n",
              "      <th></th>\n",
              "      <th>Open</th>\n",
              "      <th>High</th>\n",
              "      <th>Low</th>\n",
              "      <th>Close</th>\n",
              "      <th>Adj Close</th>\n",
              "      <th>Volume</th>\n",
              "    </tr>\n",
              "    <tr>\n",
              "      <th>Date</th>\n",
              "      <th></th>\n",
              "      <th></th>\n",
              "      <th></th>\n",
              "      <th></th>\n",
              "      <th></th>\n",
              "      <th></th>\n",
              "    </tr>\n",
              "  </thead>\n",
              "  <tbody>\n",
              "    <tr>\n",
              "      <th>2017-01-02</th>\n",
              "      <td>61.000000</td>\n",
              "      <td>64.199997</td>\n",
              "      <td>60.349998</td>\n",
              "      <td>63.900002</td>\n",
              "      <td>62.006310</td>\n",
              "      <td>1974476</td>\n",
              "    </tr>\n",
              "    <tr>\n",
              "      <th>2017-01-03</th>\n",
              "      <td>63.950001</td>\n",
              "      <td>69.099998</td>\n",
              "      <td>63.549999</td>\n",
              "      <td>66.900002</td>\n",
              "      <td>64.917404</td>\n",
              "      <td>3441833</td>\n",
              "    </tr>\n",
              "    <tr>\n",
              "      <th>2017-01-04</th>\n",
              "      <td>67.300003</td>\n",
              "      <td>68.300003</td>\n",
              "      <td>64.199997</td>\n",
              "      <td>64.750000</td>\n",
              "      <td>62.831116</td>\n",
              "      <td>1000433</td>\n",
              "    </tr>\n",
              "    <tr>\n",
              "      <th>2017-01-05</th>\n",
              "      <td>65.349998</td>\n",
              "      <td>67.300003</td>\n",
              "      <td>64.900002</td>\n",
              "      <td>66.000000</td>\n",
              "      <td>64.044075</td>\n",
              "      <td>632367</td>\n",
              "    </tr>\n",
              "    <tr>\n",
              "      <th>2017-01-06</th>\n",
              "      <td>66.000000</td>\n",
              "      <td>68.300003</td>\n",
              "      <td>64.300003</td>\n",
              "      <td>66.099998</td>\n",
              "      <td>64.141106</td>\n",
              "      <td>1286944</td>\n",
              "    </tr>\n",
              "    <tr>\n",
              "      <th>...</th>\n",
              "      <td>...</td>\n",
              "      <td>...</td>\n",
              "      <td>...</td>\n",
              "      <td>...</td>\n",
              "      <td>...</td>\n",
              "      <td>...</td>\n",
              "    </tr>\n",
              "    <tr>\n",
              "      <th>2021-06-04</th>\n",
              "      <td>153.449997</td>\n",
              "      <td>154.899994</td>\n",
              "      <td>149.850006</td>\n",
              "      <td>151.750000</td>\n",
              "      <td>151.750000</td>\n",
              "      <td>1170813</td>\n",
              "    </tr>\n",
              "    <tr>\n",
              "      <th>2021-06-07</th>\n",
              "      <td>154.300003</td>\n",
              "      <td>174.500000</td>\n",
              "      <td>154.300003</td>\n",
              "      <td>167.949997</td>\n",
              "      <td>167.949997</td>\n",
              "      <td>5188285</td>\n",
              "    </tr>\n",
              "    <tr>\n",
              "      <th>2021-06-08</th>\n",
              "      <td>169.500000</td>\n",
              "      <td>198.300003</td>\n",
              "      <td>161.449997</td>\n",
              "      <td>187.449997</td>\n",
              "      <td>187.449997</td>\n",
              "      <td>7113704</td>\n",
              "    </tr>\n",
              "    <tr>\n",
              "      <th>2021-06-09</th>\n",
              "      <td>189.399994</td>\n",
              "      <td>203.100006</td>\n",
              "      <td>185.350006</td>\n",
              "      <td>187.800003</td>\n",
              "      <td>187.800003</td>\n",
              "      <td>5288956</td>\n",
              "    </tr>\n",
              "    <tr>\n",
              "      <th>2021-06-10</th>\n",
              "      <td>190.000000</td>\n",
              "      <td>197.949997</td>\n",
              "      <td>190.000000</td>\n",
              "      <td>194.250000</td>\n",
              "      <td>194.250000</td>\n",
              "      <td>2322052</td>\n",
              "    </tr>\n",
              "  </tbody>\n",
              "</table>\n",
              "<p>1094 rows × 6 columns</p>\n",
              "</div>"
            ],
            "text/plain": [
              "                  Open        High         Low       Close   Adj Close   Volume\n",
              "Date                                                                           \n",
              "2017-01-02   61.000000   64.199997   60.349998   63.900002   62.006310  1974476\n",
              "2017-01-03   63.950001   69.099998   63.549999   66.900002   64.917404  3441833\n",
              "2017-01-04   67.300003   68.300003   64.199997   64.750000   62.831116  1000433\n",
              "2017-01-05   65.349998   67.300003   64.900002   66.000000   64.044075   632367\n",
              "2017-01-06   66.000000   68.300003   64.300003   66.099998   64.141106  1286944\n",
              "...                ...         ...         ...         ...         ...      ...\n",
              "2021-06-04  153.449997  154.899994  149.850006  151.750000  151.750000  1170813\n",
              "2021-06-07  154.300003  174.500000  154.300003  167.949997  167.949997  5188285\n",
              "2021-06-08  169.500000  198.300003  161.449997  187.449997  187.449997  7113704\n",
              "2021-06-09  189.399994  203.100006  185.350006  187.800003  187.800003  5288956\n",
              "2021-06-10  190.000000  197.949997  190.000000  194.250000  194.250000  2322052\n",
              "\n",
              "[1094 rows x 6 columns]"
            ]
          },
          "metadata": {
            "tags": []
          },
          "execution_count": 85
        }
      ]
    },
    {
      "cell_type": "code",
      "metadata": {
        "id": "RR9ktY4j_srI"
      },
      "source": [
        "kg =(df['Close'] - df['Open'].shift(1) )> (df['Close'] - df['Open'])"
      ],
      "execution_count": null,
      "outputs": []
    },
    {
      "cell_type": "code",
      "metadata": {
        "colab": {
          "base_uri": "https://localhost:8080/"
        },
        "id": "VyeQFpwr_xUo",
        "outputId": "716bd5e6-1f9e-49e0-f57a-b16aa37ea08f"
      },
      "source": [
        "kg"
      ],
      "execution_count": null,
      "outputs": [
        {
          "output_type": "execute_result",
          "data": {
            "text/plain": [
              "Date\n",
              "2017-01-02    False\n",
              "2017-01-03     True\n",
              "2017-01-04     True\n",
              "2017-01-05    False\n",
              "2017-01-06     True\n",
              "              ...  \n",
              "2021-06-04     True\n",
              "2021-06-07     True\n",
              "2021-06-08     True\n",
              "2021-06-09     True\n",
              "2021-06-10     True\n",
              "Length: 1094, dtype: bool"
            ]
          },
          "metadata": {
            "tags": []
          },
          "execution_count": 78
        }
      ]
    },
    {
      "cell_type": "code",
      "metadata": {
        "id": "iQFV_aoE384T"
      },
      "source": [
        ""
      ],
      "execution_count": null,
      "outputs": []
    }
  ]
}