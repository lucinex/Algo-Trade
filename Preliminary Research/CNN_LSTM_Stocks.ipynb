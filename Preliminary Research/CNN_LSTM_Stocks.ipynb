{
  "nbformat": 4,
  "nbformat_minor": 0,
  "metadata": {
    "colab": {
      "name": "CNN_LSTM_Stocks.ipynb",
      "provenance": [],
      "collapsed_sections": []
    },
    "kernelspec": {
      "name": "python3",
      "display_name": "Python 3"
    },
    "language_info": {
      "name": "python"
    },
    "accelerator": "GPU"
  },
  "cells": [
    {
      "cell_type": "code",
      "metadata": {
        "id": "XRrnKpR9tpBU",
        "colab": {
          "base_uri": "https://localhost:8080/"
        },
        "outputId": "ccdceba0-ec6f-47cb-9d01-efe0ef17cb59"
      },
      "source": [
        "!pip install yfinance"
      ],
      "execution_count": null,
      "outputs": [
        {
          "output_type": "stream",
          "text": [
            "Collecting yfinance\n",
            "  Downloading yfinance-0.1.63.tar.gz (26 kB)\n",
            "Requirement already satisfied: pandas>=0.24 in /usr/local/lib/python3.7/dist-packages (from yfinance) (1.1.5)\n",
            "Requirement already satisfied: numpy>=1.15 in /usr/local/lib/python3.7/dist-packages (from yfinance) (1.19.5)\n",
            "Requirement already satisfied: requests>=2.20 in /usr/local/lib/python3.7/dist-packages (from yfinance) (2.23.0)\n",
            "Requirement already satisfied: multitasking>=0.0.7 in /usr/local/lib/python3.7/dist-packages (from yfinance) (0.0.9)\n",
            "Collecting lxml>=4.5.1\n",
            "  Downloading lxml-4.6.3-cp37-cp37m-manylinux2014_x86_64.whl (6.3 MB)\n",
            "\u001b[K     |████████████████████████████████| 6.3 MB 6.6 MB/s \n",
            "\u001b[?25hRequirement already satisfied: python-dateutil>=2.7.3 in /usr/local/lib/python3.7/dist-packages (from pandas>=0.24->yfinance) (2.8.2)\n",
            "Requirement already satisfied: pytz>=2017.2 in /usr/local/lib/python3.7/dist-packages (from pandas>=0.24->yfinance) (2018.9)\n",
            "Requirement already satisfied: six>=1.5 in /usr/local/lib/python3.7/dist-packages (from python-dateutil>=2.7.3->pandas>=0.24->yfinance) (1.15.0)\n",
            "Requirement already satisfied: idna<3,>=2.5 in /usr/local/lib/python3.7/dist-packages (from requests>=2.20->yfinance) (2.10)\n",
            "Requirement already satisfied: urllib3!=1.25.0,!=1.25.1,<1.26,>=1.21.1 in /usr/local/lib/python3.7/dist-packages (from requests>=2.20->yfinance) (1.24.3)\n",
            "Requirement already satisfied: chardet<4,>=3.0.2 in /usr/local/lib/python3.7/dist-packages (from requests>=2.20->yfinance) (3.0.4)\n",
            "Requirement already satisfied: certifi>=2017.4.17 in /usr/local/lib/python3.7/dist-packages (from requests>=2.20->yfinance) (2021.5.30)\n",
            "Building wheels for collected packages: yfinance\n",
            "  Building wheel for yfinance (setup.py) ... \u001b[?25l\u001b[?25hdone\n",
            "  Created wheel for yfinance: filename=yfinance-0.1.63-py2.py3-none-any.whl size=23918 sha256=e98c9166ae4d0a352ff19091a9ca69208561dc2daab96c31e9dad3a13970dec8\n",
            "  Stored in directory: /root/.cache/pip/wheels/fe/87/8b/7ec24486e001d3926537f5f7801f57a74d181be25b11157983\n",
            "Successfully built yfinance\n",
            "Installing collected packages: lxml, yfinance\n",
            "  Attempting uninstall: lxml\n",
            "    Found existing installation: lxml 4.2.6\n",
            "    Uninstalling lxml-4.2.6:\n",
            "      Successfully uninstalled lxml-4.2.6\n",
            "Successfully installed lxml-4.6.3 yfinance-0.1.63\n"
          ],
          "name": "stdout"
        }
      ]
    },
    {
      "cell_type": "code",
      "metadata": {
        "id": "rLE2W5bJt-AN"
      },
      "source": [
        "#import yfinance as yf\n",
        "import matplotlib.pyplot as plt\n",
        "import pandas as pd\n",
        "import numpy as np\n",
        "import torch \n",
        "from sklearn.preprocessing import MinMaxScaler\n",
        "from sklearn.model_selection import train_test_split\n",
        "\n",
        "from torch.utils.data import DataLoader"
      ],
      "execution_count": null,
      "outputs": []
    },
    {
      "cell_type": "code",
      "metadata": {
        "colab": {
          "base_uri": "https://localhost:8080/"
        },
        "id": "GeAHtxbAt8K_",
        "outputId": "582826ce-3c94-4dd9-bd3e-5738f4b8c862"
      },
      "source": [
        "triveni = yf.download('TRIVENI.NS')"
      ],
      "execution_count": null,
      "outputs": [
        {
          "output_type": "stream",
          "text": [
            "\r[*********************100%***********************]  1 of 1 completed\n"
          ],
          "name": "stdout"
        }
      ]
    },
    {
      "cell_type": "code",
      "metadata": {
        "id": "ZMFoC1N9urPA"
      },
      "source": [
        "class StockData():\n",
        "  def __init__(self, ticker , ):\n",
        "    self.data = pd.DataFrame([0])\n",
        "    self.ticker = ticker\n",
        "    self.download(ticker)\n",
        "    self.transform()\n",
        "    self.RSI(14)\n",
        "    self.ATR(20)\n",
        "    self.ATX(20)\n",
        "    self.dropna(inplace=True)\n",
        "    \n",
        "\n",
        "  def download(self,ticker,Id=\".NS\"):\n",
        "    if self.data == None:\n",
        "      if type(ticker) == str:\n",
        "        ticker = ticker + Id\n",
        "        self.data = yf.download(ticker)\n",
        "  def transform(self):\n",
        "    \n",
        "    self.data['HL_mid'] = (self.data['High'] + self.data['Low']) / 2\n",
        "    self.data['OC_mid'] = (self.data['Open'] + self.data['Adj Close'])/2\n",
        "    return\n",
        "\n",
        "  def bollingerband(self):\n",
        "    df = self.data.copy()\n",
        "    df[\"MA\"] = df['Adj Close'].rolling(20).mean()\n",
        "    df[\"BB_up\"] = df[\"MA\"] + 2*df[\"MA\"].rolling(20).std()\n",
        "    df[\"BB_dn\"] = df[\"MA\"] - 2*df[\"MA\"].rolling(20).std()\n",
        "    df[\"BB_width\"] = df[\"BB_up\"] - df[\"BB_dn\"]\n",
        "    self.data['MA'] = df['MA']\n",
        "    self.data['BB_width'] = df[\"BB_width\"]\n",
        "    return \n",
        "  def RSI(self,n):\n",
        "    \"function to calculate RSI\"\n",
        "    df = DF.copy()\n",
        "    df['delta']=df['Adj Close'] - df['Adj Close'].shift(1)\n",
        "    df['gain']=np.where(df['delta']>=0,df['delta'],0)\n",
        "    df['loss']=np.where(df['delta']<0,abs(df['delta']),0)\n",
        "    avg_gain = []\n",
        "    avg_loss = []\n",
        "    gain = df['gain'].tolist()\n",
        "    loss = df['loss'].tolist()\n",
        "    for i in range(len(df)):\n",
        "        if i < n:\n",
        "            avg_gain.append(np.NaN)\n",
        "            avg_loss.append(np.NaN)\n",
        "        elif i == n:\n",
        "            avg_gain.append(df['gain'].rolling(n).mean().tolist()[n])\n",
        "            avg_loss.append(df['loss'].rolling(n).mean().tolist()[n])\n",
        "        elif i > n:\n",
        "            avg_gain.append(((n-1)*avg_gain[i-1] + gain[i])/n)\n",
        "            avg_loss.append(((n-1)*avg_loss[i-1] + loss[i])/n)\n",
        "    df['avg_gain']=np.array(avg_gain)\n",
        "    df['avg_loss']=np.array(avg_loss)\n",
        "    df['RS'] = df['avg_gain']/df['avg_loss']\n",
        "    df['RSI'] = 100 - (100/(1+df['RS']))\n",
        "    self.data['RSI'] = df['RSI']\n",
        "    return \n",
        "  def ATR(self,n):\n",
        "    df = self.data.copy()\n",
        "    df['H-L'] = abs(df['High'] - df['Low'])\n",
        "    df['H-PC']=abs(df['High']- df['Adj Close'].shift(1))\n",
        "    df['L-PC']=abs(df['Low']- df['Adj Close'].shift(1))\n",
        "    df['TR'] = df[['H-L','H-PC','L-PC']].max(axis=1, skipna=False)\n",
        "    self.data['ATR'] = df['TR'].rolling(n).mean()\n",
        "    df2 = df.drop(['H-L','H-PC','L-PC'],axis=1)\n",
        "    self.data['TR'] = df2['TR']\n",
        "    return\n",
        "\n",
        "  def ADX(self,n):\n",
        "    \"function to calculate ADX\"\n",
        "    df2 = self.data.copy()\n",
        "     #the period parameter of ATR function does not matter because period does not influence TR calculation\n",
        "    df2['DMplus']=np.where((df2['High']-df2['High'].shift(1))>(df2['Low'].shift(1)-df2['Low']),df2['High']-df2['High'].shift(1),0)\n",
        "    df2['DMplus']=np.where(df2['DMplus']<0,0,df2['DMplus'])\n",
        "    df2['DMminus']=np.where((df2['Low'].shift(1)-df2['Low'])>(df2['High']-df2['High'].shift(1)),df2['Low'].shift(1)-df2['Low'],0)\n",
        "    df2['DMminus']=np.where(df2['DMminus']<0,0,df2['DMminus'])\n",
        "    TRn = []\n",
        "    DMplusN = []\n",
        "    DMminusN = []\n",
        "    TR = df2['TR'].tolist()\n",
        "    DMplus = df2['DMplus'].tolist()\n",
        "    DMminus = df2['DMminus'].tolist()\n",
        "    for i in range(len(df2)):\n",
        "        if i < n:\n",
        "            TRn.append(np.NaN)\n",
        "            DMplusN.append(np.NaN)\n",
        "            DMminusN.append(np.NaN)\n",
        "        elif i == n:\n",
        "            TRn.append(df2['TR'].rolling(n).sum().tolist()[n])\n",
        "            DMplusN.append(df2['DMplus'].rolling(n).sum().tolist()[n])\n",
        "            DMminusN.append(df2['DMminus'].rolling(n).sum().tolist()[n])\n",
        "        elif i > n:\n",
        "            TRn.append(TRn[i-1] - (TRn[i-1]/14) + TR[i])\n",
        "            DMplusN.append(DMplusN[i-1] - (DMplusN[i-1]/14) + DMplus[i])\n",
        "            DMminusN.append(DMminusN[i-1] - (DMminusN[i-1]/14) + DMminus[i])\n",
        "    df2['TRn'] = np.array(TRn)\n",
        "    df2['DMplusN'] = np.array(DMplusN)\n",
        "    df2['DMminusN'] = np.array(DMminusN)\n",
        "    df2['DIplusN']=100*(df2['DMplusN']/df2['TRn'])\n",
        "    df2['DIminusN']=100*(df2['DMminusN']/df2['TRn'])\n",
        "    df2['DIdiff']=abs(df2['DIplusN']-df2['DIminusN'])\n",
        "    df2['DIsum']=df2['DIplusN']+df2['DIminusN']\n",
        "    df2['DX']=100*(df2['DIdiff']/df2['DIsum'])\n",
        "    ADX = []\n",
        "    DX = df2['DX'].tolist()\n",
        "    for j in range(len(df2)):\n",
        "        if j < 2*n-1:\n",
        "            ADX.append(np.NaN)\n",
        "        elif j == 2*n-1:\n",
        "            ADX.append(df2['DX'][j-n+1:j+1].mean())\n",
        "        elif j > 2*n-1:\n",
        "            ADX.append(((n-1)*ADX[j-1] + DX[j])/n)\n",
        "    self.data['ADX']=np.array(ADX)\n",
        "    return \n",
        "\n"
      ],
      "execution_count": null,
      "outputs": []
    },
    {
      "cell_type": "code",
      "metadata": {
        "id": "-iGMYDZBSgDL",
        "colab": {
          "base_uri": "https://localhost:8080/",
          "height": 236
        },
        "outputId": "21953ac6-c8b7-4314-f0e8-8ab9520274f3"
      },
      "source": [
        "\n",
        "triveni['HL_mid'] = (triveni['High'] + triveni['Low']) / 2\n",
        "triveni['OC_mid'] = (triveni['Open'] + triveni['Adj Close'])/2\n",
        "\n",
        "#Bollinger_band_width\n",
        "df = triveni.copy()\n",
        "df[\"MA\"] = df['Adj Close'].rolling(20).mean()\n",
        "df[\"BB_up\"] = df[\"MA\"] + 2*df[\"MA\"].rolling(20).std()\n",
        "df[\"BB_dn\"] = df[\"MA\"] - 2*df[\"MA\"].rolling(20).std()\n",
        "df[\"BB_width\"] = df[\"BB_up\"] - df[\"BB_dn\"]\n",
        "triveni['MA'] = df['MA']\n",
        "triveni['BB_width'] = df[\"BB_width\"]\n",
        "\n",
        "\n",
        "def RSI(DF,n):\n",
        "    \"function to calculate RSI\"\n",
        "    df = DF.copy()\n",
        "    df['delta']=df['Adj Close'] - df['Adj Close'].shift(1)\n",
        "    df['gain']=np.where(df['delta']>=0,df['delta'],0)\n",
        "    df['loss']=np.where(df['delta']<0,abs(df['delta']),0)\n",
        "    avg_gain = []\n",
        "    avg_loss = []\n",
        "    gain = df['gain'].tolist()\n",
        "    loss = df['loss'].tolist()\n",
        "    for i in range(len(df)):\n",
        "        if i < n:\n",
        "            avg_gain.append(np.NaN)\n",
        "            avg_loss.append(np.NaN)\n",
        "        elif i == n:\n",
        "            avg_gain.append(df['gain'].rolling(n).mean().tolist()[n])\n",
        "            avg_loss.append(df['loss'].rolling(n).mean().tolist()[n])\n",
        "        elif i > n:\n",
        "            avg_gain.append(((n-1)*avg_gain[i-1] + gain[i])/n)\n",
        "            avg_loss.append(((n-1)*avg_loss[i-1] + loss[i])/n)\n",
        "    df['avg_gain']=np.array(avg_gain)\n",
        "    df['avg_loss']=np.array(avg_loss)\n",
        "    df['RS'] = df['avg_gain']/df['avg_loss']\n",
        "    df['RSI'] = 100 - (100/(1+df['RS']))\n",
        "    return df['RSI']\n",
        "\n",
        "def ATR(DF,n):\n",
        "  df = DF.copy()\n",
        "  df['H-L'] = abs(df['High'] - df['Low'])\n",
        "  df['H-PC']=abs(df['High']- df['Adj Close'].shift(1))\n",
        "  df['L-PC']=abs(df['Low']- df['Adj Close'].shift(1))\n",
        "  df['TR'] = df[['H-L','H-PC','L-PC']].max(axis=1, skipna=False)\n",
        "  df['ATR'] = df['TR'].rolling(n).mean()\n",
        "  df2 = df.drop(['H-L','H-PC','L-PC'],axis=1)\n",
        "  return df2\n",
        "\n",
        "def ADX(DF,n):\n",
        "    \"function to calculate ADX\"\n",
        "    df2 = DF.copy()\n",
        "    df2['TR'] = ATR(df2,n)['TR'] #the period parameter of ATR function does not matter because period does not influence TR calculation\n",
        "    df2['DMplus']=np.where((df2['High']-df2['High'].shift(1))>(df2['Low'].shift(1)-df2['Low']),df2['High']-df2['High'].shift(1),0)\n",
        "    df2['DMplus']=np.where(df2['DMplus']<0,0,df2['DMplus'])\n",
        "    df2['DMminus']=np.where((df2['Low'].shift(1)-df2['Low'])>(df2['High']-df2['High'].shift(1)),df2['Low'].shift(1)-df2['Low'],0)\n",
        "    df2['DMminus']=np.where(df2['DMminus']<0,0,df2['DMminus'])\n",
        "    TRn = []\n",
        "    DMplusN = []\n",
        "    DMminusN = []\n",
        "    TR = df2['TR'].tolist()\n",
        "    DMplus = df2['DMplus'].tolist()\n",
        "    DMminus = df2['DMminus'].tolist()\n",
        "    for i in range(len(df2)):\n",
        "        if i < n:\n",
        "            TRn.append(np.NaN)\n",
        "            DMplusN.append(np.NaN)\n",
        "            DMminusN.append(np.NaN)\n",
        "        elif i == n:\n",
        "            TRn.append(df2['TR'].rolling(n).sum().tolist()[n])\n",
        "            DMplusN.append(df2['DMplus'].rolling(n).sum().tolist()[n])\n",
        "            DMminusN.append(df2['DMminus'].rolling(n).sum().tolist()[n])\n",
        "        elif i > n:\n",
        "            TRn.append(TRn[i-1] - (TRn[i-1]/14) + TR[i])\n",
        "            DMplusN.append(DMplusN[i-1] - (DMplusN[i-1]/14) + DMplus[i])\n",
        "            DMminusN.append(DMminusN[i-1] - (DMminusN[i-1]/14) + DMminus[i])\n",
        "    df2['TRn'] = np.array(TRn)\n",
        "    df2['DMplusN'] = np.array(DMplusN)\n",
        "    df2['DMminusN'] = np.array(DMminusN)\n",
        "    df2['DIplusN']=100*(df2['DMplusN']/df2['TRn'])\n",
        "    df2['DIminusN']=100*(df2['DMminusN']/df2['TRn'])\n",
        "    df2['DIdiff']=abs(df2['DIplusN']-df2['DIminusN'])\n",
        "    df2['DIsum']=df2['DIplusN']+df2['DIminusN']\n",
        "    df2['DX']=100*(df2['DIdiff']/df2['DIsum'])\n",
        "    ADX = []\n",
        "    DX = df2['DX'].tolist()\n",
        "    for j in range(len(df2)):\n",
        "        if j < 2*n-1:\n",
        "            ADX.append(np.NaN)\n",
        "        elif j == 2*n-1:\n",
        "            ADX.append(df2['DX'][j-n+1:j+1].mean())\n",
        "        elif j > 2*n-1:\n",
        "            ADX.append(((n-1)*ADX[j-1] + DX[j])/n)\n",
        "    df2['ADX']=np.array(ADX)\n",
        "    return df2['ADX']\n",
        "\n",
        "\n",
        "triveni['RSI'] = RSI(triveni,14)\n",
        "df = ADX(triveni,20)\n",
        "triveni['ADX'] = df\n",
        "triveni.dropna(inplace=True)\n",
        "x = triveni[triveni.columns[4:]]\n",
        "x1_scaled = x.to_numpy()\n"
      ],
      "execution_count": null,
      "outputs": [
        {
          "output_type": "error",
          "ename": "NameError",
          "evalue": "ignored",
          "traceback": [
            "\u001b[0;31m---------------------------------------------------------------------------\u001b[0m",
            "\u001b[0;31mNameError\u001b[0m                                 Traceback (most recent call last)",
            "\u001b[0;32m<ipython-input-3-2afbbeebe894>\u001b[0m in \u001b[0;36m<module>\u001b[0;34m()\u001b[0m\n\u001b[1;32m      1\u001b[0m \u001b[0;34m\u001b[0m\u001b[0m\n\u001b[0;32m----> 2\u001b[0;31m \u001b[0mtriveni\u001b[0m\u001b[0;34m[\u001b[0m\u001b[0;34m'HL_mid'\u001b[0m\u001b[0;34m]\u001b[0m \u001b[0;34m=\u001b[0m \u001b[0;34m(\u001b[0m\u001b[0mtriveni\u001b[0m\u001b[0;34m[\u001b[0m\u001b[0;34m'High'\u001b[0m\u001b[0;34m]\u001b[0m \u001b[0;34m+\u001b[0m \u001b[0mtriveni\u001b[0m\u001b[0;34m[\u001b[0m\u001b[0;34m'Low'\u001b[0m\u001b[0;34m]\u001b[0m\u001b[0;34m)\u001b[0m \u001b[0;34m/\u001b[0m \u001b[0;36m2\u001b[0m\u001b[0;34m\u001b[0m\u001b[0;34m\u001b[0m\u001b[0m\n\u001b[0m\u001b[1;32m      3\u001b[0m \u001b[0mtriveni\u001b[0m\u001b[0;34m[\u001b[0m\u001b[0;34m'OC_mid'\u001b[0m\u001b[0;34m]\u001b[0m \u001b[0;34m=\u001b[0m \u001b[0;34m(\u001b[0m\u001b[0mtriveni\u001b[0m\u001b[0;34m[\u001b[0m\u001b[0;34m'Open'\u001b[0m\u001b[0;34m]\u001b[0m \u001b[0;34m+\u001b[0m \u001b[0mtriveni\u001b[0m\u001b[0;34m[\u001b[0m\u001b[0;34m'Adj Close'\u001b[0m\u001b[0;34m]\u001b[0m\u001b[0;34m)\u001b[0m\u001b[0;34m/\u001b[0m\u001b[0;36m2\u001b[0m\u001b[0;34m\u001b[0m\u001b[0;34m\u001b[0m\u001b[0m\n\u001b[1;32m      4\u001b[0m \u001b[0;34m\u001b[0m\u001b[0m\n\u001b[1;32m      5\u001b[0m \u001b[0;31m#Bollinger_band_width\u001b[0m\u001b[0;34m\u001b[0m\u001b[0;34m\u001b[0m\u001b[0;34m\u001b[0m\u001b[0m\n",
            "\u001b[0;31mNameError\u001b[0m: name 'triveni' is not defined"
          ]
        }
      ]
    },
    {
      "cell_type": "code",
      "metadata": {
        "id": "W29q3-tOHbjI"
      },
      "source": [
        ""
      ],
      "execution_count": null,
      "outputs": []
    },
    {
      "cell_type": "code",
      "metadata": {
        "id": "_FZI6GjMHtA8"
      },
      "source": [
        "x = pd.read_csv(\"/content/drive/MyDrive/Dataset/triveni.csv\")\n",
        "x.drop(\"Date\",axis=1,inplace=True)\n",
        "x1_scaled = x[1:].to_numpy()"
      ],
      "execution_count": null,
      "outputs": []
    },
    {
      "cell_type": "code",
      "metadata": {
        "id": "CsNTyG1CIAjS"
      },
      "source": [
        ""
      ],
      "execution_count": null,
      "outputs": []
    },
    {
      "cell_type": "code",
      "metadata": {
        "id": "5FwSI_AfXqAb"
      },
      "source": [
        "min_max_x = MinMaxScaler()\n",
        "min_max_y = MinMaxScaler()\n",
        "x1_scaled_x =min_max_x.fit_transform(x1_scaled[:,:-1])\n",
        "x1_scaled_y = min_max_y.fit_transform([x1_scaled[:,-1]])"
      ],
      "execution_count": null,
      "outputs": []
    },
    {
      "cell_type": "code",
      "metadata": {
        "id": "tbF5qp3ZkdTh"
      },
      "source": [
        "x1_scaled = np.concatenate([x1_scaled_x,x1_scaled_y.T],axis=1)\n"
      ],
      "execution_count": null,
      "outputs": []
    },
    {
      "cell_type": "code",
      "metadata": {
        "id": "-723EqC4YFnh",
        "colab": {
          "base_uri": "https://localhost:8080/"
        },
        "outputId": "b51993c9-6f6a-46f0-aace-e3f167bb76e0"
      },
      "source": [
        "x1_scaled.shape"
      ],
      "execution_count": null,
      "outputs": [
        {
          "output_type": "execute_result",
          "data": {
            "text/plain": [
              "(3816, 8)"
            ]
          },
          "metadata": {
            "tags": []
          },
          "execution_count": 6
        }
      ]
    },
    {
      "cell_type": "code",
      "metadata": {
        "id": "OnFd1prwnb5E"
      },
      "source": [
        ""
      ],
      "execution_count": null,
      "outputs": []
    },
    {
      "cell_type": "code",
      "metadata": {
        "id": "rHQOFGcrS6R7"
      },
      "source": [
        "\n"
      ],
      "execution_count": null,
      "outputs": []
    },
    {
      "cell_type": "code",
      "metadata": {
        "id": "zA88URWWqiBg"
      },
      "source": [
        ""
      ],
      "execution_count": null,
      "outputs": []
    },
    {
      "cell_type": "code",
      "metadata": {
        "id": "tS_kEks7p1wM"
      },
      "source": [
        ""
      ],
      "execution_count": null,
      "outputs": []
    },
    {
      "cell_type": "code",
      "metadata": {
        "colab": {
          "base_uri": "https://localhost:8080/"
        },
        "id": "Rx5zsc99sI0f",
        "outputId": "fc58ff24-3a61-4bf8-d3bb-513a1eed0205"
      },
      "source": [
        "def new_dataset(dataset, step_size):\n",
        "\tdata_X, data_Y = [], []\n",
        "\tfor i in range(dataset.shape[0]-step_size-1):\n",
        "\t\ta = dataset[i:(i+step_size),1:]\n",
        "\t\tdata_X.append(a)\n",
        "\t\tdata_Y.append(dataset[i + step_size, 0])\n",
        "\treturn np.array(data_X), np.array(data_Y)\n",
        "X,Y = new_dataset(x1_scaled,20)\n",
        "\n",
        "X.shape\n"
      ],
      "execution_count": null,
      "outputs": [
        {
          "output_type": "execute_result",
          "data": {
            "text/plain": [
              "(3795, 20, 7)"
            ]
          },
          "metadata": {},
          "execution_count": 6
        }
      ]
    },
    {
      "cell_type": "code",
      "metadata": {
        "id": "d1fXwlAVq7-c"
      },
      "source": [
        ""
      ],
      "execution_count": null,
      "outputs": []
    },
    {
      "cell_type": "code",
      "metadata": {
        "id": "hONM_q4HH5FD"
      },
      "source": [
        ""
      ],
      "execution_count": null,
      "outputs": []
    },
    {
      "cell_type": "code",
      "metadata": {
        "id": "OXku9g05pscA"
      },
      "source": [
        "X[0]"
      ],
      "execution_count": null,
      "outputs": []
    },
    {
      "cell_type": "code",
      "metadata": {
        "id": "1lTtExvMuMSX"
      },
      "source": [
        "x_train,x_test,y_train,y_test = train_test_split(X, Y, test_size=0.1, shuffle=False)\n",
        "x_train,x_val,y_train,y_val = train_test_split(x_train, y_train, test_size=0.1, shuffle=False)"
      ],
      "execution_count": null,
      "outputs": []
    },
    {
      "cell_type": "code",
      "metadata": {
        "id": "_ddOvCSruvWz"
      },
      "source": [
        "x_train= x_train[1:]\n",
        "y_train = y_train[1:]\n",
        "x_val = x_val[22:]\n",
        "y_val = y_val[22:]"
      ],
      "execution_count": null,
      "outputs": []
    },
    {
      "cell_type": "code",
      "metadata": {
        "id": "XjWqYpv3JKZY",
        "colab": {
          "base_uri": "https://localhost:8080/"
        },
        "outputId": "1e7ddaf4-25ae-47a7-b9d1-5581e08861e9"
      },
      "source": [
        "len(x_val),len(x_train)"
      ],
      "execution_count": null,
      "outputs": [
        {
          "output_type": "execute_result",
          "data": {
            "text/plain": [
              "(320, 3072)"
            ]
          },
          "metadata": {},
          "execution_count": 9
        }
      ]
    },
    {
      "cell_type": "code",
      "metadata": {
        "colab": {
          "base_uri": "https://localhost:8080/"
        },
        "id": "9B-PjC2NvZs2",
        "outputId": "9cfed364-1057-45ab-ca73-aac43c1c8697"
      },
      "source": [
        "y_train = y_train.reshape(y_train.shape[0],1)\n",
        "y_train = y_train.astype(np.float32)\n",
        "y_train.shape"
      ],
      "execution_count": null,
      "outputs": [
        {
          "output_type": "execute_result",
          "data": {
            "text/plain": [
              "(3072, 1)"
            ]
          },
          "metadata": {},
          "execution_count": 10
        }
      ]
    },
    {
      "cell_type": "code",
      "metadata": {
        "colab": {
          "base_uri": "https://localhost:8080/",
          "height": 287
        },
        "id": "c-bCMllsNnED",
        "outputId": "1a2104d5-5509-4e06-9ff8-3d60cd9b92df"
      },
      "source": [
        "import matplotlib.pyplot as plt \n",
        "plt.plot(y_train)"
      ],
      "execution_count": null,
      "outputs": [
        {
          "output_type": "execute_result",
          "data": {
            "text/plain": [
              "[<matplotlib.lines.Line2D at 0x7feb0df718d0>]"
            ]
          },
          "metadata": {},
          "execution_count": 11
        },
        {
          "output_type": "display_data",
          "data": {
            "image/png": "[encoded data removed]",
            "text/plain": [
              "<Figure size 432x288 with 1 Axes>"
            ]
          },
          "metadata": {
            "needs_background": "light"
          }
        }
      ]
    },
    {
      "cell_type": "code",
      "metadata": {
        "id": "ywRNGakEH6NL"
      },
      "source": [
        "from torch.utils.data import Dataset\n",
        "class CustomTimeSeries(Dataset):\n",
        "    def __init__(self, x,y):\n",
        "        x = np.reshape(x, (x.shape[0],1,x.shape[1],x.shape[2]))\n",
        "        self.features = x.astype(np.float32)\n",
        "        self.labels = y.astype(np.float32)\n",
        "  \n",
        "\n",
        "    def __len__(self):\n",
        "        return len(self.labels)\n",
        "\n",
        "    def __getitem__(self, idx):\n",
        "        x = self.features[idx,:,:]\n",
        "        y = self.labels[idx]\n",
        "        return x, y\n",
        "BATCH = 32\n",
        "\n",
        "traindata = CustomTimeSeries(x_train,y_train)\n",
        "train_dataloader = DataLoader(traindata, batch_size=BATCH, shuffle=False)\n",
        "valdata = CustomTimeSeries(x_val,y_val)\n",
        "val_dataloader = DataLoader(valdata, batch_size=BATCH, shuffle=False)"
      ],
      "execution_count": null,
      "outputs": []
    },
    {
      "cell_type": "code",
      "metadata": {
        "id": "CXYT-k5TfWKa"
      },
      "source": [
        "for i,j in train_dataloader:\n",
        "  \n",
        "  break\n"
      ],
      "execution_count": null,
      "outputs": []
    },
    {
      "cell_type": "code",
      "metadata": {
        "id": "1uBb0qB5f0Q5"
      },
      "source": [
        ""
      ],
      "execution_count": null,
      "outputs": []
    },
    {
      "cell_type": "code",
      "metadata": {
        "id": "blGOcBFmILjA",
        "colab": {
          "base_uri": "https://localhost:8080/"
        },
        "outputId": "c98198fa-e078-4838-b096-5605b1d64f77"
      },
      "source": [
        "!pip install torchinfo\n"
      ],
      "execution_count": null,
      "outputs": [
        {
          "output_type": "stream",
          "text": [
            "Collecting torchinfo\n",
            "  Downloading torchinfo-1.5.3-py3-none-any.whl (19 kB)\n",
            "Installing collected packages: torchinfo\n",
            "Successfully installed torchinfo-1.5.3\n"
          ],
          "name": "stdout"
        }
      ]
    },
    {
      "cell_type": "code",
      "metadata": {
        "id": "UDWuHCtviONH"
      },
      "source": [
        "import torch \n",
        "from torch import nn\n",
        "from torch.utils.data import DataLoader\n",
        "from torchvision import datasets \n",
        "from torchvision.transforms import ToTensor \n",
        "import os\n",
        "\n",
        "#from torchinfo import summary"
      ],
      "execution_count": null,
      "outputs": []
    },
    {
      "cell_type": "code",
      "metadata": {
        "id": "xoLRXuPcIL87",
        "colab": {
          "base_uri": "https://localhost:8080/"
        },
        "outputId": "d4fcae2c-f6b3-4f24-a6d8-e0fb49d81866"
      },
      "source": [
        "if torch.cuda.is_available():\n",
        "  device = \"cuda\"\n",
        "else:\n",
        "  device = \"cpu\"\n",
        "print(f\"available {device} device \")\n",
        "\n",
        "device = torch.device(device)\n",
        "\n",
        "class CNN_LSTM(nn.Module):\n",
        "  def __init__(self,batch):\n",
        "    super().__init__()\n",
        "    \n",
        "    self.batch = batch\n",
        "    self.maxPool2d = nn.MaxPool2d(kernel_size=1)\n",
        "    \n",
        "    self.lstm_2 = nn.LSTM(input_size=32,hidden_size=32,num_layers=20)\n",
        "    self.conv2d = nn.Conv2d(in_channels=1,out_channels=32, kernel_size=(8,1) )\n",
        "    self.dense2 = nn.Linear(in_features=128, out_features=1)\n",
        "    self.dropout = nn.Dropout(0.2)\n",
        "    self.dense1 = nn.Linear(in_features=32, out_features=128)\n",
        "    self.layerNorm = nn.LayerNorm(20)\n",
        "    self.act1 = nn.ReLU()\n",
        "    self.float()\n",
        "    \n",
        "  \n",
        "  def forward(self, input_data):  #indicates pytorch how to manipulate the data\n",
        "    \n",
        "    input_data = self.layerNorm(input_data)\n",
        "    x = self.conv2d(input_data)\n",
        "    x = self.act1(x)\n",
        "    x = self.maxPool2d(x)\n",
        "    x = torch.reshape(x,(x.shape[0],32,20))\n",
        "\n",
        "    y_p = x.permute(2,0,1)\n",
        "    hx = torch.zeros(20,y_p.shape[1],32 ,dtype=y_p.dtype, device=input_data.device)\n",
        "    cx = torch.zeros(20,y_p.shape[1] ,32,dtype=y_p.dtype, device=input_data.device)\n",
        "    hx1 = torch.zeros(20,y_p.shape[1],32 ,dtype=y_p.dtype, device=input_data.device)\n",
        "    cx1 = torch.zeros(20,y_p.shape[1] ,32,dtype=y_p.dtype, device=input_data.device)\n",
        "    state1 = tuple((hx,cx))\n",
        "    out,state = self.lstm_2(y_p,state1)\n",
        "    state2 = (hx1,cx1)\n",
        "    out,state = self.lstm_2(out,state2)\n",
        "    #for i in range(y_p.shape[0]):\n",
        "    #  hx, cx =self.lstm(y_p[i],(hx,cx))\n",
        "    y_p = self.dense1(out[-1,:,:])\n",
        "    y_p = self.dropout(y_p)\n",
        "    y_p = self.act1(y_p)\n",
        "    output = self.dense2(y_p)\n",
        "    return output\n",
        "\n",
        "def train_one_epoch(model, dataloader, loss_fn, optimiser, device, hidden):\n",
        "  model.train()\n",
        "  \n",
        "  for inputs, targets in dataloader:\n",
        "    inputs , targets = inputs.float(), targets.float()\n",
        "    if device:\n",
        "      inputs , targets = inputs.cuda(), targets.cuda()\n",
        "    targets = targets.view(-1,1)\n",
        "\n",
        "    # calculate loss\n",
        "    preds = model(inputs)#hidden)\n",
        "    #print(f\"pred:{preds.shape},,, labels.shape:{targets.shape}\")\n",
        "    loss = loss_fn(preds,targets)\n",
        "\n",
        "    # backpropagate loss and update weights\n",
        "    optimiser.zero_grad()\n",
        "    loss.backward(retain_graph=True)\n",
        "    optimiser.step()\n",
        "  print(f\"train_loss : {loss.item()}\")\n",
        "  return loss.item()\n",
        "  \n",
        "def validation(model, dataloader, loss,hidden,device):\n",
        "  losses = []\n",
        "  model.eval()\n",
        "  \n",
        "  for inputs,targets in dataloader:\n",
        "      inputs , targets = inputs.float(), targets.float()\n",
        "      if device:\n",
        "        inputs , targets = inputs.cuda(), targets.cuda()\n",
        "      targets = targets.view(-1,1)\n",
        "      # calculate loss\n",
        "      preds = model(inputs)#,hidden)\n",
        "      loss = loss_fn(preds,targets)\n",
        "      losses.append(loss.item())\n",
        "  print(f\"val_loss_mean : {np.mean(losses)}\")\n",
        "  #print(f\"val_losses : {losses}\")\n",
        "  return np.mean(losses)\n",
        "\n",
        "def train(model, data_loader,dataloader_val, loss_fn, optimiser, device, epochs):\n",
        "  val_loss = 0\n",
        "  train_loss = 0 \n",
        "  for i in range(epochs):\n",
        "    hidden = (0,0)\n",
        "    print(f\"epoch {i+1}\")\n",
        "    train_loss = train_one_epoch(model, data_loader, loss_fn, optimiser, device,hidden)\n",
        "    print(\"------------------------\")\n",
        "    print(\"validation score\")\n",
        "    \n",
        "    if dataloader_val:\n",
        "      hidden = (0,0)\n",
        "      val_loss = validation(model,val_dataloader,loss_fn,device,hidden)\n",
        "      if val_loss < train_loss:\n",
        "        print(\"Validation_loss was Lower\")\n",
        "\n",
        "  print(\"training done\")\n",
        "  \n",
        "  \n"
      ],
      "execution_count": null,
      "outputs": [
        {
          "output_type": "stream",
          "text": [
            "available cuda device \n"
          ],
          "name": "stdout"
        }
      ]
    },
    {
      "cell_type": "code",
      "metadata": {
        "id": "JNb7h-zFyzNT"
      },
      "source": [
        "class CNN_LSTM_2(nn.Module):\n",
        "  def __init__(self,batch):\n",
        "    super().__init__()\n",
        "    self.batch = batch \n",
        "    \n",
        "    self.lstm_hidden_size = 128\n",
        "    self.lstm = nn.LSTMCell(input_size=64,hidden_size=self.lstm_hidden_size)\n",
        "    self.lstm_2 = nn.LSTM(input_size=32,hidden_size=64,num_layers=20)\n",
        "\n",
        "    self.conv2d = nn.Conv2d(in_channels=1,out_channels=32, kernel_size=(8,1))\n",
        "    self.conv1d_1 = nn.Conv1d(in_channels = 1, out_channels= 32, kernel_size=2,dilation=2)\n",
        "    self.conv1d_2 = nn.Conv1d(in_channels = 32, out_channels= 64, kernel_size=2,dilation=3)\n",
        "    self.conv1d_2_2 = nn.Conv1d(in_channels = 64, out_channels= 64, kernel_size=2)\n",
        "    self.conv1d_3 = nn.Conv1d(in_channels = 64, out_channels= 128, kernel_size=2)\n",
        "    self.conv1d_4 = nn.Conv1d(in_channels = 128, out_channels= 128, kernel_size=2)\n",
        "    self.maxPool2d = nn.MaxPool1d(kernel_size=1)\n",
        "\n",
        "    \n",
        "    self.act1 = nn.Tanh()\n",
        "    self.dropout = nn.Dropout(0.2)\n",
        "    self.dense_1 = nn.Linear(in_features=self.lstm_hidden_size, out_features=512)\n",
        "    self.dense_2 = nn.Linear(in_features=512, out_features=64)\n",
        "    self.dense_3 = nn.Linear(in_features=64, out_features=1)\n",
        "  def forward(self,input):\n",
        "      hidden=self.init_hidden()\n",
        "      hx,cx = hidden\n",
        "      hx,cx = hx.cuda(),cx.cuda()\n",
        "      for k in range(input.shape[2]):\n",
        "        x = self.act1(self.conv1d_1(input[:,:,k,:]))\n",
        "        \n",
        "        x = self.act1(self.conv1d_2(x))\n",
        "        \n",
        "        x = self.act1(self.conv1d_2_2(x))\n",
        "        \n",
        "        #x = self.act1(self.conv1d_3(x))\n",
        "        #x = self.act1(self.conv1d_4(x))\n",
        "        #x = self.act1(self.conv1d_4(x))\n",
        "        x = x.view(self.batch,-1)\n",
        "        hx,cx = self.lstm(x,(hx,cx))\n",
        "      out = self.act1(self.dropout(self.dense_1(hx)))\n",
        "      out = self.act1(self.dropout(self.dense_2(out)))\n",
        "      out = self.dense_3(out)\n",
        "      return out\n",
        "  def backward(self, retain_variables=True):\n",
        "        #Why is retain_variables True??\n",
        "        self.loss.backward(retain_variables=retain_variables)\n",
        "        return self.loss\n",
        "  def init_hidden(self):\n",
        "    hidden = (torch.zeros(self.batch,self.lstm_hidden_size ,dtype=torch.float32,requires_grad=True),\n",
        "                   torch.zeros(self.batch,self.lstm_hidden_size ,dtype=torch.float32,requires_grad=True))\n",
        "    return hidden"
      ],
      "execution_count": null,
      "outputs": []
    },
    {
      "cell_type": "code",
      "metadata": {
        "id": "KC6_gpyjHGdj"
      },
      "source": [
        "model = CNN_LSTM_2(32)\n",
        "model(input,(0,0))"
      ],
      "execution_count": null,
      "outputs": []
    },
    {
      "cell_type": "code",
      "metadata": {
        "id": "MlXtw1jJHETH"
      },
      "source": [
        ""
      ],
      "execution_count": null,
      "outputs": []
    },
    {
      "cell_type": "code",
      "metadata": {
        "id": "AhYMxwYnWRwD"
      },
      "source": [
        "class CNN1D(nn.Module):\n",
        "  def __init__(self,batch,hidden_size=64):\n",
        "    super().__init__()\n",
        "    self.batch = batch\n",
        "    self.hidden_size= hidden_size\n",
        "    self.conv1d_1 = nn.Conv1d(in_channels = 1, out_channels= 32, kernel_size=2,dilation=2)\n",
        "    #self.maxpool = nn.MaxPool1d()\n",
        "    self.conv1d_2 = nn.Conv1d(in_channels = 32, out_channels= 32, kernel_size=3,dilation=3)\n",
        "\n",
        "    self.lstm = nn.LSTM(input_size=12,hidden_size=self.hidden_size,num_layers=32,batch_first=True,dropout=0.1)\n",
        "    \n",
        "    self.dense = nn.Linear(in_features=self.hidden_size,out_features=1)\n",
        "    self.act1 = nn.ReLU()\n",
        "\n",
        "  def forward(self,input):\n",
        "    hidden = self.init_hidden()\n",
        "    x = self.act1(self.conv1d_1(input))\n",
        "    x = self.act1(self.conv1d_2(x))\n",
        "    x,hidden = self.lstm(x,hidden)\n",
        "    x = self.act1(self.dense(x))\n",
        "    return x.view((self.batch,-1))\n",
        "  def init_hidden(self,num_seq=32):\n",
        "    hidden = (torch.zeros(self.batch,num_seq,self.hidden_size ,dtype=torch.float32,requires_grad=True),\n",
        "                   torch.zeros(self.batch,num_seq,self.hidden_size ,dtype=torch.float32,requires_grad=True))\n",
        "    return hidden\n",
        "\n",
        "class CNN_combine(nn.Module):\n",
        "   def __init__(self,batch,hidden_size=64):\n",
        "    super().__init__()\n",
        "    self.conv1 = CNN1D(batch)\n",
        "    self.conv2 = CNN1D(batch)\n",
        "    self.conv3 = CNN1D(batch)\n",
        "    self.conv4 = CNN1D(batch)\n",
        "    self.conv5 = CNN1D(batch)\n",
        "    self.conv6 = CNN1D(batch)\n",
        "    self.conv7 = CNN1D(batch)\n",
        "    \n",
        "   def forward(self,input):\n",
        "    x1 = self.conv1(input[:,:,:,0])\n",
        "    x2 = self.conv2(input[:,:,:,1])\n",
        "    x3 = self.conv3(input[:,:,:,2])\n",
        "    x4 = self.conv4(input[:,:,:,3])\n",
        "    x5 = self.conv5(input[:,:,:,4])\n",
        "    x6 = self.conv6(input[:,:,:,5])\n",
        "    x7 = self.conv7(input[:,:,:,6])\n",
        "    x = torch.cat((x1,x2,x3,x4,x5,x6,x7),axis=-1)\n",
        "    return x \n",
        "\n",
        "class CNN_LSTM_3(nn.Module):\n",
        "  def __init__(self,batch,hidden_size=64):\n",
        "    super().__init__()\n",
        "    self.batch = batch\n",
        "    self.lstm_hidden_size = hidden_size\n",
        "    self.conv1 = CNN_combine(batch) \n",
        "    self.dense = nn.Linear(in_features=224,out_features=1024)\n",
        "    self.dense2 = nn.Linear(in_features = 1024, out_features = 1)\n",
        "    self.act1 = nn.Tanh()\n",
        "    self.drop = nn.Dropout(0.1)\n",
        "  def forward(self,input,hidden):\n",
        "    x = self.conv1(input)\n",
        "    x = self.act1(self.drop(self.dense(x)))\n",
        "    x = self.dense2(x)\n",
        "    return x\n",
        "\n",
        "  def backward(self, retain_variables=True):\n",
        "        #Why is retain_variables True??\n",
        "    self.loss.backward(retain_variables=retain_variables)\n",
        "    return self.loss\n",
        "  def init_hidden(self,num_seq=32):\n",
        "    hidden = (torch.zeros(self.batch,num_seq,self.lstm_hidden_size ,dtype=torch.float32,requires_grad=True),\n",
        "                   torch.zeros(self.batch,num_seq,self.lstm_hidden_size ,dtype=torch.float32,requires_grad=True))\n",
        "    return hidden\n"
      ],
      "execution_count": null,
      "outputs": []
    },
    {
      "cell_type": "code",
      "metadata": {
        "id": "ZOaCjWvbPmbo"
      },
      "source": [
        "class CNN1D(nn.Module):\n",
        "  def __init__(self):\n",
        "    super().__init__()\n",
        "    self.conv1d_1 = nn.Conv1d(in_channels = 1, out_channels= 32, kernel_size=2,dilation=1)  \n",
        "    self.conv1d_2 = nn.Conv1d(in_channels = 1, out_channels= 32, kernel_size=2,dilation=2)\n",
        "    self.conv1d_3 = nn.Conv1d(in_channels = 1, out_channels= 32, kernel_size=3,dilation=1)\n",
        "    self.maxpool_2 = nn.MaxPool1d(2)\n",
        "    self.act1 = nn.Tanh()\n",
        "  def forward(self,input):\n",
        "    x1 = self.act1(self.conv1d_1(input))\n",
        "    x1 = self.maxpool_2(x1)\n",
        "    x2 = self.act1(self.conv1d_2(input))\n",
        "    x2 = self.maxpool_2(x2)\n",
        "    x3 = self.act1(self.conv1d_3(input))\n",
        "    x3 = self.maxpool_2(x3)\n",
        "    x_1 = torch.cat((x1,x2,x3),axis=1)\n",
        "    return x_1.view((32,96,1,9))\n",
        "\n",
        "\n",
        "class CNN_2(nn.Module):\n",
        "  def __init__(self,batch):\n",
        "    super().__init__()\n",
        "    self.batch = batch \n",
        "    self.conv1 = CNN1D()\n",
        "    self.conv2 = CNN1D()\n",
        "    self.conv3 = CNN1D()\n",
        "    self.conv4 = CNN1D()\n",
        "    self.conv5 = CNN1D()\n",
        "    self.conv6 = CNN1D()\n",
        "    self.conv7 = CNN1D()\n",
        "    self.conv2d_1 = nn.Conv2d(in_channels=96,out_channels=32, kernel_size=3)\n",
        "    self.conv2d_2 = conv2d_2 =nn.Conv2d(in_channels=1,out_channels=32, kernel_size=(16,1))\n",
        "    self.maxPool2d = nn.MaxPool2d(kernel_size=2)\n",
        "    self.act1 = nn.Tanh()\n",
        "    self.dense_1= nn.Linear(in_features=512, out_features = 1024)\n",
        "    self.dropout = nn.Dropout(0.2)\n",
        "    self.dense_2 = nn.Linear(in_features=1024,out_features=512)\n",
        "    self.dense_3 = nn.Linear(in_features=512, out_features = 64)\n",
        "    self.dense_4 = nn.Linear(in_features=64, out_features=1)\n",
        "    self.act1 = nn.LeakyReLU()\n",
        "    self.act2 = nn.ReLU()\n",
        "    self.bn1 = nn.BatchNorm2d(num_features=32)\n",
        "    self.bn2 = nn.BatchNorm2d(num_features=32)\n",
        "    self.conv2d_3 = nn.Conv2d(in_channels=64,out_channels=32,kernel_size=(2,4))\n",
        "    \n",
        "    self.maxPool2d = nn.MaxPool2d(4)\n",
        "\n",
        "  def forward(self,input):\n",
        "    x1 = self.conv1(input[:,:,:,0])\n",
        "    x2 = self.conv2(input[:,:,:,1])\n",
        "    x3 = self.conv3(input[:,:,:,2])\n",
        "    x4 = self.conv4(input[:,:,:,3])\n",
        "    x5 = self.conv5(input[:,:,:,4])\n",
        "    x6 = self.conv6(input[:,:,:,5])\n",
        "    x7 = self.conv7(input[:,:,:,6])\n",
        "    x_1 = torch.cat((x1,x2,x3,x4,x5,x6,x7),axis=2)\n",
        "    x_1 = self.act1(self.conv2d_1(x_1))\n",
        "    \n",
        "    x_2 = self.act1(self.conv2d_2(input))\n",
        "    x_2 = self.bn2(x_2)\n",
        "    x = torch.cat((x_1,x_2),axis=1)\n",
        "    x = self.act1(self.conv2d_3(x))\n",
        "    #x = self.maxPool2d(x)\n",
        "    x = self.act1(self.dropout(self.dense_1(x.view(self.batch,-1))))\n",
        "    x = self.act1(self.dropout(self.dense_2(x)))\n",
        "    x = self.act1(self.dropout(self.dense_3(x)))\n",
        "    x = self.dense_4(x)\n",
        "    return x"
      ],
      "execution_count": null,
      "outputs": []
    },
    {
      "cell_type": "code",
      "metadata": {
        "id": "DOgHswvUB8_y",
        "colab": {
          "base_uri": "https://localhost:8080/"
        },
        "outputId": "b880c736-db04-4bef-ab51-23c42c7c3f80"
      },
      "source": [
        "\n",
        "\n",
        "LEARNING_RATE = 1e-4\n",
        "\n",
        "model = CNN_LSTM_2(BATCH)\n",
        "model.cuda()\n",
        "\n",
        "\n",
        "#summary(model, input_size=(BATCH, 1, 20, 7))"
      ],
      "execution_count": null,
      "outputs": [
        {
          "output_type": "execute_result",
          "data": {
            "text/plain": [
              "CNN_LSTM_2(\n",
              "  (lstm): LSTMCell(64, 128)\n",
              "  (lstm_2): LSTM(32, 64, num_layers=20)\n",
              "  (conv2d): Conv2d(1, 32, kernel_size=(8, 1), stride=(1, 1))\n",
              "  (conv1d_1): Conv1d(1, 32, kernel_size=(2,), stride=(1,), dilation=(2,))\n",
              "  (conv1d_2): Conv1d(32, 64, kernel_size=(2,), stride=(1,), dilation=(3,))\n",
              "  (conv1d_2_2): Conv1d(64, 64, kernel_size=(2,), stride=(1,))\n",
              "  (conv1d_3): Conv1d(64, 128, kernel_size=(2,), stride=(1,))\n",
              "  (conv1d_4): Conv1d(128, 128, kernel_size=(2,), stride=(1,))\n",
              "  (maxPool2d): MaxPool1d(kernel_size=1, stride=1, padding=0, dilation=1, ceil_mode=False)\n",
              "  (act1): ReLU()\n",
              "  (dropout): Dropout(p=0.2, inplace=False)\n",
              "  (dense_1): Linear(in_features=128, out_features=512, bias=True)\n",
              "  (dense_2): Linear(in_features=512, out_features=64, bias=True)\n",
              "  (dense_3): Linear(in_features=64, out_features=1, bias=True)\n",
              ")"
            ]
          },
          "metadata": {
            "tags": []
          },
          "execution_count": 125
        }
      ]
    },
    {
      "cell_type": "code",
      "metadata": {
        "id": "ZafKagHIMAak"
      },
      "source": [
        "hidden = model.init_hidden()\n",
        "out = model(input,hidden)"
      ],
      "execution_count": null,
      "outputs": []
    },
    {
      "cell_type": "code",
      "metadata": {
        "colab": {
          "base_uri": "https://localhost:8080/"
        },
        "id": "2_2Y4R1r1lEG",
        "outputId": "a41cb2b2-31fe-4378-e17c-a9b93ae91332"
      },
      "source": [
        "POECHS = 50\n",
        "LEARNING_RATE = 1e-4\n",
        "loss_fn = nn.MSELoss()\n",
        "if device==\"cuda:0\":\n",
        "  model.cuda()\n",
        "optimiser = torch.optim.Adamax(model.parameters()) #lr =LEARNING_RATE )\n",
        "\n",
        "train(model, train_dataloader,test_dataloader, loss_fn, optimiser, device,EPOCHS)"
      ],
      "execution_count": null,
      "outputs": [
        {
          "output_type": "stream",
          "text": [
            "epoch 1\n",
            "train_loss : 0.0313371866941452\n",
            "------------------------\n",
            "validation score\n",
            "val_loss_mean : 0.006221875332994386\n",
            "Validation_loss was Lower\n",
            "epoch 2\n",
            "train_loss : 0.0010195438517257571\n",
            "------------------------\n",
            "validation score\n",
            "val_loss_mean : 0.008883103559492156\n",
            "epoch 3\n",
            "train_loss : 0.00059405283536762\n",
            "------------------------\n",
            "validation score\n",
            "val_loss_mean : 0.012764450046233833\n",
            "epoch 4\n",
            "train_loss : 0.0002497418608982116\n",
            "------------------------\n",
            "validation score\n",
            "val_loss_mean : 0.012949497951194645\n",
            "epoch 5\n",
            "train_loss : 0.00031201273668557405\n",
            "------------------------\n",
            "validation score\n",
            "val_loss_mean : 0.013807107671163976\n",
            "epoch 6\n",
            "train_loss : 0.001106102718040347\n",
            "------------------------\n",
            "validation score\n",
            "val_loss_mean : 0.0010652014534571208\n",
            "Validation_loss was Lower\n",
            "epoch 7\n",
            "train_loss : 0.00042499860865063965\n",
            "------------------------\n",
            "validation score\n",
            "val_loss_mean : 0.00018920321126643104\n",
            "Validation_loss was Lower\n",
            "epoch 8\n",
            "train_loss : 0.0006495320703834295\n",
            "------------------------\n",
            "validation score\n",
            "val_loss_mean : 0.00045073208457324654\n",
            "Validation_loss was Lower\n",
            "epoch 9\n",
            "train_loss : 0.0003025582991540432\n",
            "------------------------\n",
            "validation score\n",
            "val_loss_mean : 0.0011276081146206706\n",
            "epoch 10\n",
            "train_loss : 0.0002735431771725416\n",
            "------------------------\n",
            "validation score\n",
            "val_loss_mean : 0.00019506857643136755\n",
            "Validation_loss was Lower\n",
            "epoch 11\n",
            "train_loss : 0.0003499572048895061\n",
            "------------------------\n",
            "validation score\n",
            "val_loss_mean : 0.0011518567975144834\n",
            "epoch 12\n",
            "train_loss : 0.0005288792890496552\n",
            "------------------------\n",
            "validation score\n",
            "val_loss_mean : 0.00022666185104753823\n",
            "Validation_loss was Lower\n",
            "epoch 13\n",
            "train_loss : 0.00021622423082590103\n",
            "------------------------\n",
            "validation score\n",
            "val_loss_mean : 0.001257426428492181\n",
            "epoch 14\n",
            "train_loss : 0.0004768150974996388\n",
            "------------------------\n",
            "validation score\n",
            "val_loss_mean : 0.00012184619190520607\n",
            "Validation_loss was Lower\n",
            "epoch 15\n",
            "train_loss : 0.00023128694738261402\n",
            "------------------------\n",
            "validation score\n",
            "val_loss_mean : 0.001473725846153684\n",
            "epoch 16\n",
            "train_loss : 0.0012593746650964022\n",
            "------------------------\n",
            "validation score\n",
            "val_loss_mean : 0.000123825096670771\n",
            "Validation_loss was Lower\n",
            "epoch 17\n",
            "train_loss : 0.0006513644475489855\n",
            "------------------------\n",
            "validation score\n",
            "val_loss_mean : 0.0011181720707099884\n",
            "epoch 18\n",
            "train_loss : 0.001194556476548314\n",
            "------------------------\n",
            "validation score\n",
            "val_loss_mean : 0.000124235701514408\n",
            "Validation_loss was Lower\n",
            "epoch 19\n",
            "train_loss : 0.00020229934307280928\n",
            "------------------------\n",
            "validation score\n",
            "val_loss_mean : 0.0002755714554950828\n",
            "epoch 20\n",
            "train_loss : 0.0002302847133250907\n",
            "------------------------\n",
            "validation score\n",
            "val_loss_mean : 0.0006437490388634615\n",
            "epoch 21\n",
            "train_loss : 0.00025816872948780656\n",
            "------------------------\n",
            "validation score\n",
            "val_loss_mean : 0.00010546918674663175\n",
            "Validation_loss was Lower\n",
            "epoch 22\n",
            "train_loss : 0.00022239120153244585\n",
            "------------------------\n",
            "validation score\n",
            "val_loss_mean : 0.0007587843552755658\n",
            "epoch 23\n",
            "train_loss : 0.00022056912712287158\n",
            "------------------------\n",
            "validation score\n",
            "val_loss_mean : 0.00014360869390657173\n",
            "Validation_loss was Lower\n",
            "epoch 24\n",
            "train_loss : 0.00010589395969873294\n",
            "------------------------\n",
            "validation score\n",
            "val_loss_mean : 0.0007352554923272692\n",
            "epoch 25\n",
            "train_loss : 0.00031763757579028606\n",
            "------------------------\n",
            "validation score\n",
            "val_loss_mean : 0.00012130781906307674\n",
            "Validation_loss was Lower\n",
            "epoch 26\n",
            "train_loss : 0.0003711094905156642\n",
            "------------------------\n",
            "validation score\n",
            "val_loss_mean : 0.00020827075895795132\n",
            "Validation_loss was Lower\n",
            "epoch 27\n",
            "train_loss : 0.00012036171392537653\n",
            "------------------------\n",
            "validation score\n",
            "val_loss_mean : 0.0001772703559254296\n",
            "epoch 28\n",
            "train_loss : 0.00030037586111575365\n",
            "------------------------\n",
            "validation score\n",
            "val_loss_mean : 0.00011171421137987637\n",
            "Validation_loss was Lower\n",
            "epoch 29\n",
            "train_loss : 0.00021924483007751405\n",
            "------------------------\n",
            "validation score\n",
            "val_loss_mean : 0.0006600612978218123\n",
            "epoch 30\n",
            "train_loss : 0.00042130902875214815\n",
            "------------------------\n",
            "validation score\n",
            "val_loss_mean : 0.00020658653520513325\n",
            "Validation_loss was Lower\n",
            "epoch 31\n",
            "train_loss : 0.00026987510500475764\n",
            "------------------------\n",
            "validation score\n",
            "val_loss_mean : 0.00030348256077559197\n",
            "epoch 32\n",
            "train_loss : 6.38445490039885e-05\n",
            "------------------------\n",
            "validation score\n",
            "val_loss_mean : 0.00039223147177835926\n",
            "epoch 33\n",
            "train_loss : 0.0004093183088116348\n",
            "------------------------\n",
            "validation score\n",
            "val_loss_mean : 0.0010105148619913961\n",
            "epoch 34\n",
            "train_loss : 0.0018721299711614847\n",
            "------------------------\n",
            "validation score\n",
            "val_loss_mean : 0.002498901091166772\n",
            "epoch 35\n",
            "train_loss : 0.0029014088213443756\n",
            "------------------------\n",
            "validation score\n",
            "val_loss_mean : 0.0003529967019858304\n",
            "Validation_loss was Lower\n",
            "epoch 36\n",
            "train_loss : 0.0005487463204190135\n",
            "------------------------\n",
            "validation score\n",
            "val_loss_mean : 0.0016386821516789496\n",
            "epoch 37\n",
            "train_loss : 8.603792230132967e-05\n",
            "------------------------\n",
            "validation score\n",
            "val_loss_mean : 0.0015574335266137496\n",
            "epoch 38\n",
            "train_loss : 0.0010260887211188674\n",
            "------------------------\n",
            "validation score\n",
            "val_loss_mean : 0.00014042531183804384\n",
            "Validation_loss was Lower\n",
            "epoch 39\n",
            "train_loss : 0.0017695657443255186\n",
            "------------------------\n",
            "validation score\n",
            "val_loss_mean : 0.0016824849473778159\n",
            "Validation_loss was Lower\n",
            "epoch 40\n",
            "train_loss : 0.0024671503342688084\n",
            "------------------------\n",
            "validation score\n",
            "val_loss_mean : 0.0013798912870697678\n",
            "Validation_loss was Lower\n",
            "epoch 41\n",
            "train_loss : 0.001370451645925641\n",
            "------------------------\n",
            "validation score\n",
            "val_loss_mean : 0.0009172024379950017\n",
            "Validation_loss was Lower\n",
            "epoch 42\n",
            "train_loss : 0.0004507133853621781\n",
            "------------------------\n",
            "validation score\n",
            "val_loss_mean : 0.0009188852389343082\n",
            "epoch 43\n",
            "train_loss : 0.0005419470835477114\n",
            "------------------------\n",
            "validation score\n",
            "val_loss_mean : 0.00015768820885568856\n",
            "Validation_loss was Lower\n",
            "epoch 44\n",
            "train_loss : 0.00012802652781829238\n",
            "------------------------\n",
            "validation score\n",
            "val_loss_mean : 0.0008877332918928004\n",
            "epoch 45\n",
            "train_loss : 0.003742231521755457\n",
            "------------------------\n",
            "validation score\n",
            "val_loss_mean : 0.0003886923805112019\n",
            "Validation_loss was Lower\n",
            "epoch 46\n",
            "train_loss : 0.0012179207988083363\n",
            "------------------------\n",
            "validation score\n",
            "val_loss_mean : 0.0004893825505860149\n",
            "Validation_loss was Lower\n",
            "epoch 47\n",
            "train_loss : 8.171304216375574e-05\n",
            "------------------------\n",
            "validation score\n",
            "val_loss_mean : 0.0015744630611152389\n",
            "epoch 48\n",
            "train_loss : 0.00236865715123713\n",
            "------------------------\n",
            "validation score\n",
            "val_loss_mean : 0.00036067445325898005\n",
            "Validation_loss was Lower\n",
            "epoch 49\n",
            "train_loss : 0.0004175888025201857\n",
            "------------------------\n",
            "validation score\n",
            "val_loss_mean : 0.0009071697539184242\n",
            "epoch 50\n",
            "train_loss : 0.0006160322809591889\n",
            "------------------------\n",
            "validation score\n",
            "val_loss_mean : 0.0003703272741404362\n",
            "Validation_loss was Lower\n",
            "training done\n"
          ],
          "name": "stdout"
        }
      ]
    },
    {
      "cell_type": "code",
      "metadata": {
        "id": "7IJNbhc3HQ-V"
      },
      "source": [
        "model(torch.tensor(x_train[2], dtype=torch.float32).view(1,1,x_train.shape[1],x_train.shape[2]),hidden)"
      ],
      "execution_count": null,
      "outputs": []
    },
    {
      "cell_type": "code",
      "metadata": {
        "id": "hw_-PUbUivVa",
        "colab": {
          "base_uri": "https://localhost:8080/"
        },
        "outputId": "ba6882b3-8735-4841-d251-8d278ef44ff5"
      },
      "source": [
        "len(x_test)%32"
      ],
      "execution_count": null,
      "outputs": [
        {
          "output_type": "execute_result",
          "data": {
            "text/plain": [
              "28"
            ]
          },
          "metadata": {
            "tags": []
          },
          "execution_count": 70
        }
      ]
    },
    {
      "cell_type": "code",
      "metadata": {
        "id": "gUtMWfuRCm6T"
      },
      "source": [
        "testdata = CustomTimeSeries(x_test[28:],y_test[28:])\n",
        "test_dataloader = DataLoader(testdata, batch_size=BATCH, shuffle=False)"
      ],
      "execution_count": null,
      "outputs": []
    },
    {
      "cell_type": "code",
      "metadata": {
        "id": "NwcgaoJd8-eZ",
        "colab": {
          "base_uri": "https://localhost:8080/",
          "height": 253
        },
        "outputId": "b8fe68aa-f5bd-4a67-c725-9f5c315dadb9"
      },
      "source": [
        "model.eval()\n",
        "model.cuda()\n",
        "preds = []\n",
        "for inputs,targets in train_dataloader:\n",
        "  inputs , targets = inputs.float(), targets.float()\n",
        "  if torch.cuda.is_available():\n",
        "    inputs , targets = inputs.cuda(),targets.cuda()\n",
        "  pred = model(inputs)#,hidden)\n",
        "  preds.append(pred)\n",
        "  \n",
        "    \n",
        "preq = []\n",
        "for pred in preds:\n",
        "   pred = pred.detach().numpy()\n",
        "   pred = pred.tolist()\n",
        "   preq = preq + pred "
      ],
      "execution_count": null,
      "outputs": [
        {
          "output_type": "error",
          "ename": "TypeError",
          "evalue": "ignored",
          "traceback": [
            "\u001b[0;31m---------------------------------------------------------------------------\u001b[0m",
            "\u001b[0;31mTypeError\u001b[0m                                 Traceback (most recent call last)",
            "\u001b[0;32m<ipython-input-26-4a08954d2c51>\u001b[0m in \u001b[0;36m<module>\u001b[0;34m()\u001b[0m\n\u001b[1;32m     12\u001b[0m \u001b[0mpreq\u001b[0m \u001b[0;34m=\u001b[0m \u001b[0;34m[\u001b[0m\u001b[0;34m]\u001b[0m\u001b[0;34m\u001b[0m\u001b[0;34m\u001b[0m\u001b[0m\n\u001b[1;32m     13\u001b[0m \u001b[0;32mfor\u001b[0m \u001b[0mpred\u001b[0m \u001b[0;32min\u001b[0m \u001b[0mpreds\u001b[0m\u001b[0;34m:\u001b[0m\u001b[0;34m\u001b[0m\u001b[0;34m\u001b[0m\u001b[0m\n\u001b[0;32m---> 14\u001b[0;31m    \u001b[0mpred\u001b[0m \u001b[0;34m=\u001b[0m \u001b[0mpred\u001b[0m\u001b[0;34m.\u001b[0m\u001b[0mdetach\u001b[0m\u001b[0;34m(\u001b[0m\u001b[0;34m)\u001b[0m\u001b[0;34m.\u001b[0m\u001b[0mnumpy\u001b[0m\u001b[0;34m(\u001b[0m\u001b[0;34m)\u001b[0m\u001b[0;34m\u001b[0m\u001b[0;34m\u001b[0m\u001b[0m\n\u001b[0m\u001b[1;32m     15\u001b[0m    \u001b[0mpred\u001b[0m \u001b[0;34m=\u001b[0m \u001b[0mpred\u001b[0m\u001b[0;34m.\u001b[0m\u001b[0mtolist\u001b[0m\u001b[0;34m(\u001b[0m\u001b[0;34m)\u001b[0m\u001b[0;34m\u001b[0m\u001b[0;34m\u001b[0m\u001b[0m\n\u001b[1;32m     16\u001b[0m    \u001b[0mpreq\u001b[0m \u001b[0;34m=\u001b[0m \u001b[0mpreq\u001b[0m \u001b[0;34m+\u001b[0m \u001b[0mpred\u001b[0m\u001b[0;34m\u001b[0m\u001b[0;34m\u001b[0m\u001b[0m\n",
            "\u001b[0;31mTypeError\u001b[0m: can't convert cuda:0 device type tensor to numpy. Use Tensor.cpu() to copy the tensor to host memory first."
          ]
        }
      ]
    },
    {
      "cell_type": "code",
      "metadata": {
        "id": "wEAKhaNO8-cS",
        "colab": {
          "base_uri": "https://localhost:8080/",
          "height": 219
        },
        "outputId": "d9f7c812-d1ab-4935-e1ae-8941f81c83b5"
      },
      "source": [
        "\n",
        "   \n",
        "\n",
        "#pred2 = min_max_y.inverse_transform(c)\n"
      ],
      "execution_count": null,
      "outputs": [
        {
          "output_type": "error",
          "ename": "NameError",
          "evalue": "ignored",
          "traceback": [
            "\u001b[0;31m---------------------------------------------------------------------------\u001b[0m",
            "\u001b[0;31mNameError\u001b[0m                                 Traceback (most recent call last)",
            "\u001b[0;32m<ipython-input-24-6ee69be25292>\u001b[0m in \u001b[0;36m<module>\u001b[0;34m()\u001b[0m\n\u001b[0;32m----> 1\u001b[0;31m \u001b[0mpreq\u001b[0m \u001b[0;34m=\u001b[0m \u001b[0mnp\u001b[0m\u001b[0;34m.\u001b[0m\u001b[0marray\u001b[0m\u001b[0;34m(\u001b[0m\u001b[0mpreq\u001b[0m\u001b[0;34m)\u001b[0m\u001b[0;34m\u001b[0m\u001b[0;34m\u001b[0m\u001b[0m\n\u001b[0m\u001b[1;32m      2\u001b[0m \u001b[0;34m\u001b[0m\u001b[0m\n\u001b[1;32m      3\u001b[0m \u001b[0;34m\u001b[0m\u001b[0m\n\u001b[1;32m      4\u001b[0m \u001b[0;31m#pred2 = min_max_y.inverse_transform(c)\u001b[0m\u001b[0;34m\u001b[0m\u001b[0;34m\u001b[0m\u001b[0;34m\u001b[0m\u001b[0m\n",
            "\u001b[0;31mNameError\u001b[0m: name 'preq' is not defined"
          ]
        }
      ]
    },
    {
      "cell_type": "code",
      "metadata": {
        "id": "hGtc09zqU6ld"
      },
      "source": [
        "pred2 = min_max_y.inverse_transform(preq)"
      ],
      "execution_count": null,
      "outputs": []
    },
    {
      "cell_type": "code",
      "metadata": {
        "id": "AJSxdZNXxzyi"
      },
      "source": [
        "!pip install torchinfo"
      ],
      "execution_count": null,
      "outputs": []
    },
    {
      "cell_type": "code",
      "metadata": {
        "id": "4XtIrVaIQBta"
      },
      "source": [
        "\n",
        "summary(model, input_size=(64, 1, 8, 20))"
      ],
      "execution_count": null,
      "outputs": []
    },
    {
      "cell_type": "code",
      "metadata": {
        "colab": {
          "base_uri": "https://localhost:8080/"
        },
        "id": "hAt4WoumBoTT",
        "outputId": "27a1601b-f919-4cbe-c515-eb4c34714327"
      },
      "source": [
        "#train(model, train_dataloader, loss_fn, optimiser, device, 15)\n",
        "print(\"-------------\")\n",
        "print(\"Validation set losses\")\n",
        "validation(model, val_dataloader, loss_fn)"
      ],
      "execution_count": null,
      "outputs": [
        {
          "output_type": "stream",
          "text": [
            "-------------\n",
            "Validation set losses\n",
            "val_loss_mean : 2055.8226318359375\n",
            "val_losses : [917.4146728515625, 1090.14990234375, 2494.364501953125, 1866.8179931640625, 2264.697021484375, 3701.49169921875]\n"
          ],
          "name": "stdout"
        },
        {
          "output_type": "execute_result",
          "data": {
            "text/plain": [
              "2055.8226318359375"
            ]
          },
          "metadata": {
            "tags": []
          },
          "execution_count": 136
        }
      ]
    },
    {
      "cell_type": "code",
      "metadata": {
        "id": "tsYNGxVbHm9j",
        "colab": {
          "base_uri": "https://localhost:8080/"
        },
        "outputId": "a3ff288c-5484-45c6-a9cd-371f993a6d92"
      },
      "source": [
        "torch.save(model.state_dict(), \"/content/drive/MyDrive/Models/Pytorch/CMM_LSTM_2_v6.pth\")\n",
        "print(\"Model Is trained\")"
      ],
      "execution_count": null,
      "outputs": [
        {
          "output_type": "stream",
          "text": [
            "Model Is trained\n"
          ],
          "name": "stdout"
        }
      ]
    },
    {
      "cell_type": "code",
      "metadata": {
        "id": "oZSePluGHm_l",
        "colab": {
          "base_uri": "https://localhost:8080/"
        },
        "outputId": "171d4b6c-db99-4bf0-ca53-70324ab7443e"
      },
      "source": [
        "model = CNN_LSTM_2(32)\n",
        "state_dict = torch.load( \"/content/drive/MyDrive/Models/Pytorch/CMM_LSTM_2_v6.pth\")\n",
        "\n",
        "model.load_state_dict(state_dict)"
      ],
      "execution_count": null,
      "outputs": [
        {
          "output_type": "execute_result",
          "data": {
            "text/plain": [
              "<All keys matched successfully>"
            ]
          },
          "metadata": {
            "tags": []
          },
          "execution_count": 23
        }
      ]
    },
    {
      "cell_type": "code",
      "metadata": {
        "colab": {
          "base_uri": "https://localhost:8080/"
        },
        "id": "drMMPjS-VhkJ",
        "outputId": "fa10a87e-d33e-441e-eb9f-9abab4b37b7f"
      },
      "source": [
        "len(X[19:])%32"
      ],
      "execution_count": null,
      "outputs": [
        {
          "output_type": "execute_result",
          "data": {
            "text/plain": [
              "0"
            ]
          },
          "metadata": {
            "tags": []
          },
          "execution_count": 47
        }
      ]
    },
    {
      "cell_type": "code",
      "metadata": {
        "id": "meAc7py0VJOT"
      },
      "source": [
        "data_xg = CustomTimeSeries(X[19:],Y[19:])\n",
        "dataloader_full = DataLoader(data_xg, batch_size=BATCH, shuffle=False)"
      ],
      "execution_count": null,
      "outputs": []
    },
    {
      "cell_type": "code",
      "metadata": {
        "id": "i1Msstq1HnCW"
      },
      "source": [
        "model.eval()\n",
        "preds = []\n",
        "for inputs,targets in dataloader_full:\n",
        "  inputs , targets = inputs.float(), targets.float()\n",
        "  if torch.cuda.is_available() :\n",
        "    inputs , targets = inputs.cuda(),targets.cuda()\n",
        "  pred = model(inputs)#,hidden)\n",
        "  preds.append(pred)\n",
        "  \n",
        "    \n",
        "preq = []\n",
        "for pred in preds:\n",
        "   pred = pred.cpu().detach().numpy()\n",
        "   pred = pred.tolist()\n",
        "   preq = preq + pred "
      ],
      "execution_count": null,
      "outputs": []
    },
    {
      "cell_type": "code",
      "metadata": {
        "id": "vdehdSKjWN77"
      },
      "source": [
        "plt.rcParams[\"figure.figsize\"] = (20,8)"
      ],
      "execution_count": null,
      "outputs": []
    },
    {
      "cell_type": "code",
      "metadata": {
        "colab": {
          "base_uri": "https://localhost:8080/",
          "height": 381
        },
        "id": "8bCmlWYuQJdH",
        "outputId": "dbdaaa2b-f79e-4d9a-869b-1afc091543a6"
      },
      "source": [
        "\n",
        "plt.plot(preq[200],\"-\")\n",
        "\n",
        "plt.plot(Y,\"r\")"
      ],
      "execution_count": null,
      "outputs": [
        {
          "output_type": "execute_result",
          "data": {
            "text/plain": [
              "[<matplotlib.lines.Line2D at 0x7f0568bad6d0>]"
            ]
          },
          "metadata": {
            "tags": []
          },
          "execution_count": 66
        },
        {
          "output_type": "display_data",
          "data": {
            "image/png": "[encoded data removed]",
            "text/plain": [
              "<Figure size 1440x576 with 1 Axes>"
            ]
          },
          "metadata": {
            "tags": [],
            "needs_background": "light"
          }
        }
      ]
    },
    {
      "cell_type": "code",
      "metadata": {
        "id": "qJmVj6MTHnE0"
      },
      "source": [
        "afor inputs,targets in train_dataloader:\n",
        "      input , target = inputs.float(), targets.float()\n",
        "      break"
      ],
      "execution_count": null,
      "outputs": []
    },
    {
      "cell_type": "code",
      "metadata": {
        "colab": {
          "base_uri": "https://localhost:8080/"
        },
        "id": "SHyEwU6RwIh4",
        "outputId": "8a0d6f82-a30e-4301-baba-9855425d1a59"
      },
      "source": [
        "model = CNN_2(32)\n",
        "print(model(input).shape)"
      ],
      "execution_count": null,
      "outputs": [
        {
          "output_type": "stream",
          "text": [
            "torch.Size([32, 1])\n"
          ],
          "name": "stdout"
        }
      ]
    },
    {
      "cell_type": "code",
      "metadata": {
        "colab": {
          "base_uri": "https://localhost:8080/"
        },
        "id": "1YuA6adYOoIN",
        "outputId": "95bb1969-e5ba-4b3f-b0a6-0f83ffd20f15"
      },
      "source": [
        "batch = 32\n",
        "lstm_hidden_size = 64\n",
        "lstm = nn.LSTMCell(input_size=128,hidden_size=lstm_hidden_size,)\n",
        "lstm_2 = nn.LSTM(input_size=6,hidden_size=64,num_layers=32,batch_first=True)\n",
        "\n",
        "conv2d = nn.Conv2d(in_channels=96,out_channels=32, kernel_size=3)\n",
        "conv2d_2 =nn.Conv2d(in_channels=1,out_channels=32, kernel_size=(16,1))\n",
        "\n",
        "\n",
        "\n",
        "conv1d_2_2 = nn.Conv1d(in_channels = 64, out_channels= 64, kernel_size=2)\n",
        "conv1d_3 = nn.Conv1d(in_channels = 64, out_channels= 128, kernel_size=2)\n",
        "conv1d_4 = nn.Conv1d(in_channels = 128, out_channels= 128, kernel_size=2)\n",
        "maxPool2d = nn.MaxPool2d(kernel_size=2)\n",
        "\n",
        "m = nn.LayerNorm((20,7))\n",
        "act1 = nn.ReLU()\n",
        "\n",
        "dense = nn.Linear(in_features=128,out_features=1)\n",
        "\n",
        "\n",
        "hx = torch.randn(batch,32,lstm_hidden_size)\n",
        "cx = torch.randn(batch,32,lstm_hidden_size)\n",
        "hide = (hx,cx)\n",
        "\n",
        "conv1d_1 = nn.Conv1d(in_channels = 1, out_channels= 32, kernel_size=2,dilation=1)\n",
        "conv1d_2 = nn.Conv1d(in_channels = 1, out_channels= 32, kernel_size=2,dilation=2)\n",
        "conv1d_3 = nn.Conv1d(in_channels = 1, out_channels= 32, kernel_size=3,dilation=1)\n",
        "maxpool_1 = nn.MaxPool1d(2)\n",
        "maxpool_2 = nn.MaxPool1d(2)\n",
        "\n",
        "print(input.shape)\n",
        "x1 = act1(conv1d_1(input[:,:,:,0].view(32,1,20)))\n",
        "x1 = maxpool_2(x1)\n",
        "print(x1.shape)\n",
        "\n",
        "x2 = act1(conv1d_2(input[:,:,:,0].view(32,1,20)))\n",
        "x2 = maxpool_1(x2)\n",
        "print(x2.shape)\n",
        "\n",
        "x3 = act1(conv1d_3(input[:,:,:,0].view(32,1,20)))\n",
        "x3 = maxpool_2(x3)\n",
        "x_1 = torch.cat((x1,x2,x3),axis=1)\n",
        "print(x3.shape)\n",
        "x_1 = x_1.view((32,96,1,9))\n",
        "#x2 = x2.view((32,32,1,9))\n",
        "#x3 = x3.view((32,32,1,9))\n",
        "\n",
        "x_1 = torch.cat((x_1,x_1,x_1,x_1,x_1,x_1,x_1),axis=2)\n",
        "print(x_1.shape)\n",
        "#x = conv1d_2(x)\n",
        "x_1 = conv2d(x_1)\n",
        "print(x.shape)\n",
        "x_s = conv2d_2(input)\n",
        "print(x_s.shape)\n",
        "x = torch.cat((x_s,x_1),axis=1)\n",
        "print(x.shape) \n",
        "conv2d_3 = nn.Conv2d(in_channels=64,out_channels=32,kernel_size=(2,4))\n",
        "x = conv2d_3(x)\n",
        "maxPool2d = nn.MaxPool2d(4)\n",
        "#x = maxPool2d(x)\n",
        "print(x.view((32,-1)).shape)\n",
        "#x,hide = lstm_2(x,hide)\n",
        "#\n",
        "#x = torch.cat((x,x),axis=-1)\n",
        "#print(x.shape)\n",
        "#x = dense(x)\n",
        "#print(x.view((32,-1)).shape)"
      ],
      "execution_count": null,
      "outputs": [
        {
          "output_type": "stream",
          "text": [
            "torch.Size([32, 1, 20, 7])\n",
            "torch.Size([32, 32, 9])\n",
            "torch.Size([32, 32, 9])\n",
            "torch.Size([32, 32, 9])\n",
            "torch.Size([32, 96, 7, 9])\n",
            "torch.Size([32, 32, 4, 4])\n",
            "torch.Size([32, 32, 5, 7])\n",
            "torch.Size([32, 64, 5, 7])\n",
            "torch.Size([32, 512])\n"
          ],
          "name": "stdout"
        }
      ]
    },
    {
      "cell_type": "code",
      "metadata": {
        "id": "hsiuDSDkxs2n"
      },
      "source": [
        "model = CNN_LSTM_3(batch=32)\n",
        "\n"
      ],
      "execution_count": null,
      "outputs": []
    },
    {
      "cell_type": "code",
      "metadata": {
        "colab": {
          "base_uri": "https://localhost:8080/"
        },
        "id": "WRAEpeKLyeRq",
        "outputId": "7732f1ad-2f05-4ef0-cef3-98b3083bba68"
      },
      "source": [
        "print(model(input))"
      ],
      "execution_count": null,
      "outputs": [
        {
          "output_type": "stream",
          "text": [
            "tensor([[-0.0270],\n",
            "        [-0.0381],\n",
            "        [-0.0238],\n",
            "        [-0.0468],\n",
            "        [-0.0415],\n",
            "        [-0.0344],\n",
            "        [-0.0298],\n",
            "        [-0.0195],\n",
            "        [-0.0258],\n",
            "        [-0.0355],\n",
            "        [-0.0261],\n",
            "        [-0.0384],\n",
            "        [-0.0200],\n",
            "        [-0.0293],\n",
            "        [-0.0224],\n",
            "        [-0.0337],\n",
            "        [-0.0379],\n",
            "        [-0.0402],\n",
            "        [-0.0258],\n",
            "        [-0.0425],\n",
            "        [-0.0286],\n",
            "        [-0.0431],\n",
            "        [-0.0261],\n",
            "        [-0.0335],\n",
            "        [-0.0348],\n",
            "        [-0.0305],\n",
            "        [-0.0321],\n",
            "        [-0.0331],\n",
            "        [-0.0221],\n",
            "        [-0.0372],\n",
            "        [-0.0101],\n",
            "        [-0.0297]], grad_fn=<AddmmBackward>)\n"
          ],
          "name": "stdout"
        }
      ]
    },
    {
      "cell_type": "code",
      "metadata": {
        "colab": {
          "base_uri": "https://localhost:8080/"
        },
        "id": "0VvhMBFSPFii",
        "outputId": "259835d3-762d-4117-b077-af016cbb8fd4"
      },
      "source": [
        "batch = BATCH\n",
        "lstm_hidden_size = 64\n",
        "lstm = nn.LSTMCell(input_size=128,hidden_size=lstm_hidden_size)\n",
        "lstm_2 = nn.LSTM(input_size=32,hidden_size=64,num_layers=20)\n",
        "\n",
        "conv2d = nn.Conv2d(in_channels=1,out_channels=32, kernel_size=(8,1))\n",
        "conv1d_1 = nn.Conv1d(in_channels = 1, out_channels= 32, kernel_size=2)\n",
        "conv1d_2 = nn.Conv1d(in_channels = 32, out_channels= 64, kernel_size=2)\n",
        "conv1d_2_2 = nn.Conv1d(in_channels = 64, out_channels= 64, kernel_size=2)\n",
        "conv1d_3 = nn.Conv1d(in_channels = 64, out_channels= 128, kernel_size=2)\n",
        "conv1d_4 = nn.Conv1d(in_channels = 128, out_channels= 128, kernel_size=2)\n",
        "maxPool2d = nn.MaxPool2d(kernel_size=1)\n",
        "\n",
        "m = nn.LayerNorm((20,7))\n",
        "act1 = nn.ReLU()\n",
        "\n",
        "dense = nn.Linear(in_features=64, out_features=1)\n",
        "inp = m(input)\n",
        "print(inp.shape)\n",
        "cons = []\n",
        "hx = torch.randn(batch,lstm_hidden_size)\n",
        "cx = torch.randn(batch,lstm_hidden_size)\n",
        "output = torch.empty(batch)\n",
        "for k in range(input.shape[2]):\n",
        "  x = act1(conv1d_1(inp[:,:,k,:]))\n",
        "  print(x.shape)\n",
        "  x = act1(conv1d_2(x))\n",
        "  x = act1(conv1d_2_2(x))\n",
        "  x = act1(conv1d_3(x))\n",
        "  x = act1(conv1d_4(x))\n",
        "  x = act1(conv1d_4(x))\n",
        "  x = x.view(32,-1)\n",
        "  print(x.shape)\n",
        "  hx,cx = lstm(x,(hx,cx))\n",
        "  \n",
        "out = dense(hx)\n",
        "print(hx.shape)\n",
        "out.shape\n"
      ],
      "execution_count": null,
      "outputs": [
        {
          "output_type": "stream",
          "text": [
            "torch.Size([32, 1, 20, 7])\n",
            "torch.Size([32, 32, 6])\n",
            "torch.Size([32, 128])\n",
            "torch.Size([32, 32, 6])\n",
            "torch.Size([32, 128])\n",
            "torch.Size([32, 32, 6])\n",
            "torch.Size([32, 128])\n",
            "torch.Size([32, 32, 6])\n",
            "torch.Size([32, 128])\n",
            "torch.Size([32, 32, 6])\n",
            "torch.Size([32, 128])\n",
            "torch.Size([32, 32, 6])\n",
            "torch.Size([32, 128])\n",
            "torch.Size([32, 32, 6])\n",
            "torch.Size([32, 128])\n",
            "torch.Size([32, 32, 6])\n",
            "torch.Size([32, 128])\n",
            "torch.Size([32, 32, 6])\n",
            "torch.Size([32, 128])\n",
            "torch.Size([32, 32, 6])\n",
            "torch.Size([32, 128])\n",
            "torch.Size([32, 32, 6])\n",
            "torch.Size([32, 128])\n",
            "torch.Size([32, 32, 6])\n",
            "torch.Size([32, 128])\n",
            "torch.Size([32, 32, 6])\n",
            "torch.Size([32, 128])\n",
            "torch.Size([32, 32, 6])\n",
            "torch.Size([32, 128])\n",
            "torch.Size([32, 32, 6])\n",
            "torch.Size([32, 128])\n",
            "torch.Size([32, 32, 6])\n",
            "torch.Size([32, 128])\n",
            "torch.Size([32, 32, 6])\n",
            "torch.Size([32, 128])\n",
            "torch.Size([32, 32, 6])\n",
            "torch.Size([32, 128])\n",
            "torch.Size([32, 32, 6])\n",
            "torch.Size([32, 128])\n",
            "torch.Size([32, 32, 6])\n",
            "torch.Size([32, 128])\n",
            "torch.Size([32, 64])\n"
          ],
          "name": "stdout"
        },
        {
          "output_type": "execute_result",
          "data": {
            "text/plain": [
              "torch.Size([32, 1])"
            ]
          },
          "metadata": {
            "tags": []
          },
          "execution_count": 73
        }
      ]
    },
    {
      "cell_type": "code",
      "metadata": {
        "colab": {
          "base_uri": "https://localhost:8080/"
        },
        "id": "ComRZkUBciPz",
        "outputId": "4090878d-28d9-4a79-d593-57dd0de38af0"
      },
      "source": [
        "print(target.shape)"
      ],
      "execution_count": null,
      "outputs": [
        {
          "output_type": "stream",
          "text": [
            "torch.Size([32, 1])\n"
          ],
          "name": "stdout"
        }
      ]
    },
    {
      "cell_type": "code",
      "metadata": {
        "id": "RBfzdFC8i3Hd"
      },
      "source": [
        ""
      ],
      "execution_count": null,
      "outputs": []
    },
    {
      "cell_type": "code",
      "metadata": {
        "colab": {
          "base_uri": "https://localhost:8080/"
        },
        "id": "Oc2wG3LWp3cQ",
        "outputId": "53a2b6ba-b1db-4ffe-f7d7-9a2d7076c0dc"
      },
      "source": [
        "print(h1.shape)\n",
        "print(out.shape)\n",
        "print(output.shape)\n",
        "print(output2.shape)"
      ],
      "execution_count": null,
      "outputs": [
        {
          "output_type": "stream",
          "text": [
            "torch.Size([20, 64, 64])\n",
            "torch.Size([20, 64, 64])\n",
            "torch.Size([64, 1])\n",
            "torch.Size([64, 1])\n"
          ],
          "name": "stdout"
        }
      ]
    },
    {
      "cell_type": "code",
      "metadata": {
        "id": "SyPsLcjPcsT0"
      },
      "source": [
        "input = torch.tensor([0,1,23,3,4,5,55,67],dtype=torch.float32)\n",
        " # With Learnable Parameters\n",
        "#input,_ = traindata[0]\n",
        "#input = torch.tensor(input,dtype=torch.float32)\n",
        "m = nn.LayerNorm(input.shape)"
      ],
      "execution_count": null,
      "outputs": []
    },
    {
      "cell_type": "code",
      "metadata": {
        "id": "l2AMnHm4OOqI",
        "colab": {
          "base_uri": "https://localhost:8080/"
        },
        "outputId": "af2bc338-f801-4a33-e87c-25546844f06c"
      },
      "source": [
        "out = m(input)\n",
        "print(input)\n",
        "print(input.shape)\n",
        "print(out.tolist())\n",
        "print(out.shape)"
      ],
      "execution_count": null,
      "outputs": [
        {
          "output_type": "stream",
          "text": [
            "tensor([ 0.,  1., 23.,  3.,  4.,  5., 55., 67.])\n",
            "torch.Size([8])\n",
            "[-0.7921018600463867, -0.7519954442977905, 0.13034588098526, -0.6717826128005981, -0.631676197052002, -0.591569721698761, 1.4137513637542725, 1.8950284719467163]\n",
            "torch.Size([8])\n"
          ],
          "name": "stdout"
        }
      ]
    },
    {
      "cell_type": "code",
      "metadata": {
        "id": "UmMxU3PEPHGC",
        "colab": {
          "base_uri": "https://localhost:8080/",
          "height": 199
        },
        "outputId": "b18fffe7-48ca-4938-eddc-c744dbd9a461"
      },
      "source": [
        "'''\n",
        "#inp = m(input)\n",
        "map = conv2d(inp)\n",
        "print(map.shape)\n",
        "map = maxPool2d(map)\n",
        "print(map.shape)\n",
        "x =torch.reshape(map,(map.shape[0],32,20))\n",
        "print(map.shape)\n",
        "print(x.shape)\n",
        "#y_p = x.permute(2,0,1)\n",
        "y_p = x.view(20,1,32)\n",
        "print(y_p.shape)\n",
        "#hx = torch.randn(64,64)\n",
        "#cx = torch.randn(64,64)\n",
        "#output= []\n",
        "#for k in range(y_p.shape[0]):\n",
        " # hx, cx = lstm(y_p[k],(hx,cx))\n",
        "hx = torch.zeros(20,y_p.shape[1],64,dtype=y_p.dtype, device=device)\n",
        "cx = torch.zeros(20,y_p.shape[1],64,dtype=y_p.dtype, device=device)\n",
        "out,(h1,c1) = lstm_2(y_p)\n",
        "output = dense(h1[-1,:,:])\n",
        "output2 = dense(out[-1,:,:])'''"
      ],
      "execution_count": null,
      "outputs": [
        {
          "output_type": "error",
          "ename": "NameError",
          "evalue": "ignored",
          "traceback": [
            "\u001b[0;31m---------------------------------------------------------------------------\u001b[0m",
            "\u001b[0;31mNameError\u001b[0m                                 Traceback (most recent call last)",
            "\u001b[0;32m<ipython-input-36-ff43ba9d8a01>\u001b[0m in \u001b[0;36m<module>\u001b[0;34m()\u001b[0m\n\u001b[1;32m      1\u001b[0m \u001b[0mxc\u001b[0m \u001b[0;34m=\u001b[0m \u001b[0mtorch\u001b[0m\u001b[0;34m.\u001b[0m\u001b[0mtensor\u001b[0m\u001b[0;34m(\u001b[0m\u001b[0mx_train\u001b[0m\u001b[0;34m[\u001b[0m\u001b[0;36m1\u001b[0m\u001b[0;34m,\u001b[0m\u001b[0;34m:\u001b[0m\u001b[0;34m,\u001b[0m\u001b[0;34m:\u001b[0m\u001b[0;34m]\u001b[0m\u001b[0;34m)\u001b[0m\u001b[0;34m\u001b[0m\u001b[0;34m\u001b[0m\u001b[0m\n\u001b[1;32m      2\u001b[0m \u001b[0mxc\u001b[0m\u001b[0;34m.\u001b[0m\u001b[0mshape\u001b[0m\u001b[0;34m\u001b[0m\u001b[0;34m\u001b[0m\u001b[0m\n\u001b[0;32m----> 3\u001b[0;31m \u001b[0msummary\u001b[0m\u001b[0;34m(\u001b[0m\u001b[0mmodel\u001b[0m\u001b[0;34m,\u001b[0m\u001b[0;34m(\u001b[0m\u001b[0;36m20\u001b[0m\u001b[0;34m,\u001b[0m\u001b[0;36m8\u001b[0m\u001b[0;34m)\u001b[0m\u001b[0;34m)\u001b[0m\u001b[0;34m\u001b[0m\u001b[0;34m\u001b[0m\u001b[0m\n\u001b[0m",
            "\u001b[0;31mNameError\u001b[0m: name 'model' is not defined"
          ]
        }
      ]
    },
    {
      "cell_type": "code",
      "metadata": {
        "id": "bo83amvyu3TG"
      },
      "source": [
        "train_one_epoch(model, train_dataloader, loss_fn, optimiser, device)\n",
        "  "
      ],
      "execution_count": null,
      "outputs": []
    },
    {
      "cell_type": "code",
      "metadata": {
        "id": "s4BTzxDnu9gR"
      },
      "source": [
        ""
      ],
      "execution_count": null,
      "outputs": []
    },
    {
      "cell_type": "code",
      "metadata": {
        "id": "EPoY_7ZAxJJW"
      },
      "source": [
        ""
      ],
      "execution_count": null,
      "outputs": []
    },
    {
      "cell_type": "code",
      "metadata": {
        "id": "64arWrfzxqC1"
      },
      "source": [
        ""
      ],
      "execution_count": null,
      "outputs": []
    },
    {
      "cell_type": "code",
      "metadata": {
        "id": "wuP8c28kRGRk"
      },
      "source": [
        ""
      ],
      "execution_count": null,
      "outputs": []
    },
    {
      "cell_type": "code",
      "metadata": {
        "id": "9patmK46RLYH"
      },
      "source": [
        ""
      ],
      "execution_count": null,
      "outputs": []
    }
  ]
}